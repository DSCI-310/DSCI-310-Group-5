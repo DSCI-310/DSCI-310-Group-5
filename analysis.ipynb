{
 "cells": [
  {
   "cell_type": "markdown",
   "id": "ad53245c-0c82-435d-80a7-d346d6da3a16",
   "metadata": {},
   "source": [
    "# Predicting breast cancer project"
   ]
  },
  {
   "cell_type": "markdown",
   "id": "401a3aa8-ce1d-4694-973e-0860fc45f4ee",
   "metadata": {},
   "source": [
    "## Imports"
   ]
  },
  {
   "cell_type": "code",
   "execution_count": 1,
   "id": "fb8c38d2-f150-4adf-b164-8821d869967c",
   "metadata": {},
   "outputs": [],
   "source": [
    "import pandas as pd\n",
    "import numpy as np\n",
    "import matplotlib.pyplot as plt\n",
    "import os\n",
    "\n",
    "%matplotlib inline\n",
    "\n",
    "import numpy as np\n",
    "import pandas as pd\n",
    "import seaborn as sns\n",
    "from sklearn.cluster import DBSCAN, KMeans\n",
    "from sklearn.compose import ColumnTransformer, make_column_transformer\n",
    "from sklearn.feature_extraction.text import CountVectorizer\n",
    "from sklearn.impute import SimpleImputer\n",
    "from sklearn.linear_model import LogisticRegression\n",
    "from sklearn.metrics import r2_score\n",
    "from sklearn.model_selection import (\n",
    "    GridSearchCV,\n",
    "    RandomizedSearchCV,\n",
    "    cross_validate,\n",
    "    train_test_split,\n",
    ")\n",
    "from sklearn.pipeline import Pipeline, make_pipeline\n",
    "from sklearn.preprocessing import OneHotEncoder, OrdinalEncoder, StandardScaler\n"
   ]
  },
  {
   "cell_type": "markdown",
   "id": "5f1797cc-ff12-4ab7-865a-39e4de581dd5",
   "metadata": {},
   "source": [
    "## INTRODUCTION \n",
    "\n",
    "*Background* \n",
    "\n",
    "*Question* \n",
    "\n",
    "*Dataset Description*\n",
    "1. Sample code number: id number\n",
    "2. Clump Thickness: 1 - 10\n",
    "3. Uniformity of Cell Size: 1 - 10\n",
    "4. Uniformity of Cell Shape: 1 - 10\n",
    "5. Marginal Adhesion: 1 - 10\n",
    "6. Single Epithelial Cell Size: 1 - 10\n",
    "7. Bare Nuclei: 1 - 10\n",
    "8. Bland Chromatin: 1 - 10\n",
    "9. Normal Nucleoli: 1 - 10\n",
    "10. Mitoses: 1 - 10\n",
    "11. Class: (2 for benign, 4 for malignant)\n",
    "\n",
    "*Data sources*\n",
    "\n",
    "https://archive.ics.uci.edu/ml/datasets/breast+cancer+wisconsin+%28original%29\n"
   ]
  },
  {
   "cell_type": "markdown",
   "id": "dd262343-2548-4e20-9b53-7dd755452533",
   "metadata": {
    "tags": []
   },
   "source": [
    "## EDA"
   ]
  },
  {
   "cell_type": "markdown",
   "id": "58b718ab-46ce-4c12-b28e-81d1d12de018",
   "metadata": {},
   "source": [
    "*Reading the data into Notebook* \n",
    "\n",
    "Since the dataset did not come with column headers, we will first manually add them. The headers will correspond to the order of their respective description above."
   ]
  },
  {
   "cell_type": "code",
   "execution_count": 2,
   "id": "6bf79be5-2e57-408d-974f-186c6477c259",
   "metadata": {},
   "outputs": [],
   "source": [
    "col_names = [\"id\", \"clump\", \"unif_size\", \"unif_shape\", \"adhesion\", \"epi_size\",\n",
    "             \"nuclei\", \"chromatin\", \"nucleoli\", \"mitoses\", \"class\"]\n",
    "\n",
    "dataset = pd.read_csv(\"breast_cancer.txt\", names=col_names, sep=\",\")"
   ]
  },
  {
   "cell_type": "code",
   "execution_count": 3,
   "id": "33dfdc81-b2a2-451e-a16c-60172f67bce5",
   "metadata": {},
   "outputs": [
    {
     "data": {
      "text/html": [
       "<div>\n",
       "<style scoped>\n",
       "    .dataframe tbody tr th:only-of-type {\n",
       "        vertical-align: middle;\n",
       "    }\n",
       "\n",
       "    .dataframe tbody tr th {\n",
       "        vertical-align: top;\n",
       "    }\n",
       "\n",
       "    .dataframe thead th {\n",
       "        text-align: right;\n",
       "    }\n",
       "</style>\n",
       "<table border=\"1\" class=\"dataframe\">\n",
       "  <thead>\n",
       "    <tr style=\"text-align: right;\">\n",
       "      <th></th>\n",
       "      <th>id</th>\n",
       "      <th>clump</th>\n",
       "      <th>unif_size</th>\n",
       "      <th>unif_shape</th>\n",
       "      <th>adhesion</th>\n",
       "      <th>epi_size</th>\n",
       "      <th>nuclei</th>\n",
       "      <th>chromatin</th>\n",
       "      <th>nucleoli</th>\n",
       "      <th>mitoses</th>\n",
       "      <th>class</th>\n",
       "    </tr>\n",
       "  </thead>\n",
       "  <tbody>\n",
       "    <tr>\n",
       "      <th>0</th>\n",
       "      <td>1000025</td>\n",
       "      <td>5</td>\n",
       "      <td>1</td>\n",
       "      <td>1</td>\n",
       "      <td>1</td>\n",
       "      <td>2</td>\n",
       "      <td>1</td>\n",
       "      <td>3</td>\n",
       "      <td>1</td>\n",
       "      <td>1</td>\n",
       "      <td>2</td>\n",
       "    </tr>\n",
       "    <tr>\n",
       "      <th>1</th>\n",
       "      <td>1002945</td>\n",
       "      <td>5</td>\n",
       "      <td>4</td>\n",
       "      <td>4</td>\n",
       "      <td>5</td>\n",
       "      <td>7</td>\n",
       "      <td>10</td>\n",
       "      <td>3</td>\n",
       "      <td>2</td>\n",
       "      <td>1</td>\n",
       "      <td>2</td>\n",
       "    </tr>\n",
       "    <tr>\n",
       "      <th>2</th>\n",
       "      <td>1015425</td>\n",
       "      <td>3</td>\n",
       "      <td>1</td>\n",
       "      <td>1</td>\n",
       "      <td>1</td>\n",
       "      <td>2</td>\n",
       "      <td>2</td>\n",
       "      <td>3</td>\n",
       "      <td>1</td>\n",
       "      <td>1</td>\n",
       "      <td>2</td>\n",
       "    </tr>\n",
       "    <tr>\n",
       "      <th>3</th>\n",
       "      <td>1016277</td>\n",
       "      <td>6</td>\n",
       "      <td>8</td>\n",
       "      <td>8</td>\n",
       "      <td>1</td>\n",
       "      <td>3</td>\n",
       "      <td>4</td>\n",
       "      <td>3</td>\n",
       "      <td>7</td>\n",
       "      <td>1</td>\n",
       "      <td>2</td>\n",
       "    </tr>\n",
       "    <tr>\n",
       "      <th>4</th>\n",
       "      <td>1017023</td>\n",
       "      <td>4</td>\n",
       "      <td>1</td>\n",
       "      <td>1</td>\n",
       "      <td>3</td>\n",
       "      <td>2</td>\n",
       "      <td>1</td>\n",
       "      <td>3</td>\n",
       "      <td>1</td>\n",
       "      <td>1</td>\n",
       "      <td>2</td>\n",
       "    </tr>\n",
       "  </tbody>\n",
       "</table>\n",
       "</div>"
      ],
      "text/plain": [
       "        id  clump  unif_size  unif_shape  adhesion  epi_size nuclei  \\\n",
       "0  1000025      5          1           1         1         2      1   \n",
       "1  1002945      5          4           4         5         7     10   \n",
       "2  1015425      3          1           1         1         2      2   \n",
       "3  1016277      6          8           8         1         3      4   \n",
       "4  1017023      4          1           1         3         2      1   \n",
       "\n",
       "   chromatin  nucleoli  mitoses  class  \n",
       "0          3         1        1      2  \n",
       "1          3         2        1      2  \n",
       "2          3         1        1      2  \n",
       "3          3         7        1      2  \n",
       "4          3         1        1      2  "
      ]
     },
     "execution_count": 3,
     "metadata": {},
     "output_type": "execute_result"
    }
   ],
   "source": [
    "dataset.head()"
   ]
  },
  {
   "cell_type": "code",
   "execution_count": 5,
   "id": "bbd689f2-73a5-4c95-9bd0-5600eb357a05",
   "metadata": {},
   "outputs": [
    {
     "name": "stdout",
     "output_type": "stream",
     "text": [
      "<class 'pandas.core.frame.DataFrame'>\n",
      "RangeIndex: 699 entries, 0 to 698\n",
      "Data columns (total 11 columns):\n",
      " #   Column      Non-Null Count  Dtype \n",
      "---  ------      --------------  ----- \n",
      " 0   id          699 non-null    int64 \n",
      " 1   clump       699 non-null    int64 \n",
      " 2   unif_size   699 non-null    int64 \n",
      " 3   unif_shape  699 non-null    int64 \n",
      " 4   adhesion    699 non-null    int64 \n",
      " 5   epi_size    699 non-null    int64 \n",
      " 6   nuclei      699 non-null    object\n",
      " 7   chromatin   699 non-null    int64 \n",
      " 8   nucleoli    699 non-null    int64 \n",
      " 9   mitoses     699 non-null    int64 \n",
      " 10  class       699 non-null    int64 \n",
      "dtypes: int64(10), object(1)\n",
      "memory usage: 60.2+ KB\n"
     ]
    }
   ],
   "source": [
    "dataset.info()"
   ]
  },
  {
   "cell_type": "markdown",
   "id": "a699c7bc-3c59-47bc-b24a-899874901ff5",
   "metadata": {},
   "source": [
    "We see that the dataset uses \"?\" for missing data so we eliminate rows that contain \"?\". Above all of the variables are numeric except for variables nuclei, we decide to transform it into int64 for ease of data analysis later on. Finally, \"id\" feature does not appear to be useful for the prediction task; hence, it is decided to be dropped before carrying on to further analysis. "
   ]
  },
  {
   "cell_type": "code",
   "execution_count": 6,
   "id": "b8dbdb81-7d3b-4613-9793-3be8d36f68bb",
   "metadata": {},
   "outputs": [
    {
     "name": "stderr",
     "output_type": "stream",
     "text": [
      "C:\\Users\\kimpd\\AppData\\Local\\Temp\\ipykernel_18364\\1067720722.py:2: SettingWithCopyWarning: \n",
      "A value is trying to be set on a copy of a slice from a DataFrame.\n",
      "Try using .loc[row_indexer,col_indexer] = value instead\n",
      "\n",
      "See the caveats in the documentation: https://pandas.pydata.org/pandas-docs/stable/user_guide/indexing.html#returning-a-view-versus-a-copy\n",
      "  dataset['nuclei'] = dataset['nuclei'].astype(int)\n"
     ]
    }
   ],
   "source": [
    "dataset = dataset[(dataset != '?').all(axis=1)]\n",
    "dataset['nuclei'] = dataset['nuclei'].astype(int)\n",
    "dataset = dataset.drop(columns=[\"id\"])"
   ]
  },
  {
   "cell_type": "markdown",
   "id": "67d1e2f5-62e2-4dcc-b6cc-d26fdc9b2861",
   "metadata": {},
   "source": [
    "We also decide to replace benign class from 2 to 0 and malignant class from 4 to 1 since if we keep values of 2 and 4, it would be hard for predictive models to calculate accuracy, precision, and so on. "
   ]
  },
  {
   "cell_type": "code",
   "execution_count": 7,
   "id": "2296aeeb-1fa5-4d54-b388-9d6223138d34",
   "metadata": {},
   "outputs": [
    {
     "data": {
      "text/plain": [
       "0    0.650073\n",
       "1    0.349927\n",
       "Name: class, dtype: float64"
      ]
     },
     "execution_count": 7,
     "metadata": {},
     "output_type": "execute_result"
    }
   ],
   "source": [
    "dataset['class'] = dataset['class'].replace([2],0)\n",
    "dataset['class'] = dataset['class'].replace([4],1) \n",
    "dataset['class'].value_counts(normalize = True)\n",
    "  "
   ]
  },
  {
   "cell_type": "markdown",
   "id": "0f7ee734-d022-4e9b-a715-7f5ed36dfdba",
   "metadata": {},
   "source": [
    "There is an imbalance in the dataset between benign and malignant. We want to further investigate the malignant examples (class = 4); hence the classes should have same importance so recall would be the most appropriate metric for this project.\n",
    "\n",
    "Then we split the data into training and testing sets (X_train, X_test, y_train, y_test) for further exploration. \n",
    " "
   ]
  },
  {
   "cell_type": "code",
   "execution_count": 8,
   "id": "6fafdaf3-305b-447b-91e9-062c4180bf8a",
   "metadata": {},
   "outputs": [
    {
     "name": "stdout",
     "output_type": "stream",
     "text": [
      "<class 'pandas.core.frame.DataFrame'>\n",
      "Int64Index: 478 entries, 696 to 525\n",
      "Data columns (total 10 columns):\n",
      " #   Column      Non-Null Count  Dtype\n",
      "---  ------      --------------  -----\n",
      " 0   clump       478 non-null    int64\n",
      " 1   unif_size   478 non-null    int64\n",
      " 2   unif_shape  478 non-null    int64\n",
      " 3   adhesion    478 non-null    int64\n",
      " 4   epi_size    478 non-null    int64\n",
      " 5   nuclei      478 non-null    int32\n",
      " 6   chromatin   478 non-null    int64\n",
      " 7   nucleoli    478 non-null    int64\n",
      " 8   mitoses     478 non-null    int64\n",
      " 9   class       478 non-null    int64\n",
      "dtypes: int32(1), int64(9)\n",
      "memory usage: 39.2 KB\n"
     ]
    }
   ],
   "source": [
    "train_df, test_df = train_test_split(dataset, test_size=0.3, random_state=123)\n",
    "X_train = train_df.drop(columns=[\"class\"])\n",
    "X_test = test_df.drop(columns=[\"class\"])\n",
    "\n",
    "y_train = train_df[\"class\"]\n",
    "y_test = test_df[\"class\"]\n",
    "numeric_looking_columns = X_train.select_dtypes(include=np.number).columns.tolist()\n",
    "train_df.info()"
   ]
  },
  {
   "cell_type": "code",
   "execution_count": 9,
   "id": "2733b8b3-823f-434e-bcf6-73193cf3c340",
   "metadata": {},
   "outputs": [
    {
     "data": {
      "image/png": "[encoded data removed]",
      "text/plain": [
       "<Figure size 432x288 with 1 Axes>"
      ]
     },
     "metadata": {
      "needs_background": "light"
     },
     "output_type": "display_data"
    },
    {
     "data": {
      "image/png": "[encoded data removed]",
      "text/plain": [
       "<Figure size 432x288 with 1 Axes>"
      ]
     },
     "metadata": {
      "needs_background": "light"
     },
     "output_type": "display_data"
    },
    {
     "data": {
      "image/png": "[encoded data removed]",
      "text/plain": [
       "<Figure size 432x288 with 1 Axes>"
      ]
     },
     "metadata": {
      "needs_background": "light"
     },
     "output_type": "display_data"
    },
    {
     "data": {
      "image/png": "[encoded data removed]",
      "text/plain": [
       "<Figure size 432x288 with 1 Axes>"
      ]
     },
     "metadata": {
      "needs_background": "light"
     },
     "output_type": "display_data"
    },
    {
     "data": {
      "image/png": "[encoded data removed]",
      "text/plain": [
       "<Figure size 432x288 with 1 Axes>"
      ]
     },
     "metadata": {
      "needs_background": "light"
     },
     "output_type": "display_data"
    },
    {
     "data": {
      "image/png": "[encoded data removed]",
      "text/plain": [
       "<Figure size 432x288 with 1 Axes>"
      ]
     },
     "metadata": {
      "needs_background": "light"
     },
     "output_type": "display_data"
    },
    {
     "data": {
      "image/png": "[encoded data removed]",
      "text/plain": [
       "<Figure size 432x288 with 1 Axes>"
      ]
     },
     "metadata": {
      "needs_background": "light"
     },
     "output_type": "display_data"
    },
    {
     "data": {
      "image/png": "[encoded data removed]",
      "text/plain": [
       "<Figure size 432x288 with 1 Axes>"
      ]
     },
     "metadata": {
      "needs_background": "light"
     },
     "output_type": "display_data"
    },
    {
     "data": {
      "image/png": "[encoded data removed]",
      "text/plain": [
       "<Figure size 432x288 with 1 Axes>"
      ]
     },
     "metadata": {
      "needs_background": "light"
     },
     "output_type": "display_data"
    }
   ],
   "source": [
    "benign_cases = train_df[train_df[\"class\"] == 0]\n",
    "                    \n",
    "malignant_cases = train_df[train_df[\"class\"] == 1]\n",
    "\n",
    "def plots(): \n",
    "    for x in numeric_looking_columns:\n",
    "        x1 = benign_cases[x]\n",
    "        y1 = malignant_cases[x]\n",
    "        plt.hist([x1, y1], label=['1', '0'])\n",
    "        plt.title('Histogram of ' + x)\n",
    "        plt.xlabel(x)\n",
    "        plt.ylabel('frequency')\n",
    "        plt.legend(loc='upper right', fontsize = 8)\n",
    "        plt.show()\n",
    "\n",
    "plots()"
   ]
  },
  {
   "cell_type": "code",
   "execution_count": 10,
   "id": "f8ded5a1-b833-4bfc-bbdb-b3ccbef1a6c5",
   "metadata": {},
   "outputs": [
    {
     "data": {
      "image/png": "[encoded data removed]",
      "text/plain": [
       "<Figure size 1440x1800 with 9 Axes>"
      ]
     },
     "metadata": {
      "needs_background": "light"
     },
     "output_type": "display_data"
    }
   ],
   "source": [
    "fig, ax = plt.subplots(3, 3, figsize=(20, 25))\n",
    "for var, subplot in zip(numeric_looking_columns, ax.flatten()):\n",
    "    sns.boxplot(x='class', y=var, data=train_df, ax=subplot)"
   ]
  },
  {
   "cell_type": "markdown",
   "id": "48ab9494-6374-4ad8-8c0a-a5f731f2bf1d",
   "metadata": {},
   "source": [
    "*Comments on above plots:*\n",
    "\n",
    "\n",
    "\n"
   ]
  },
  {
   "cell_type": "code",
   "execution_count": 11,
   "id": "767cf662-3d4e-48fb-9668-7374578a1045",
   "metadata": {},
   "outputs": [],
   "source": [
    "numeric_transformer = StandardScaler()\n",
    "ct = make_column_transformer(\n",
    "    (numeric_transformer, numeric_looking_columns))"
   ]
  },
  {
   "cell_type": "code",
   "execution_count": 12,
   "id": "2c66b157-c5f0-4e46-ba3a-bdd3cc4818e2",
   "metadata": {},
   "outputs": [
    {
     "name": "stdout",
     "output_type": "stream",
     "text": [
      "fit_time           0.009833\n",
      "score_time         0.004530\n",
      "test_accuracy      0.009466\n",
      "train_accuracy     0.004701\n",
      "test_f1            0.014147\n",
      "train_f1           0.006855\n",
      "test_recall        0.025569\n",
      "train_recall       0.009752\n",
      "test_precision     0.015510\n",
      "train_precision    0.005409\n",
      "dtype: float64\n"
     ]
    },
    {
     "data": {
      "text/html": [
       "<div>\n",
       "<style scoped>\n",
       "    .dataframe tbody tr th:only-of-type {\n",
       "        vertical-align: middle;\n",
       "    }\n",
       "\n",
       "    .dataframe tbody tr th {\n",
       "        vertical-align: top;\n",
       "    }\n",
       "\n",
       "    .dataframe thead th {\n",
       "        text-align: right;\n",
       "    }\n",
       "</style>\n",
       "<table border=\"1\" class=\"dataframe\">\n",
       "  <thead>\n",
       "    <tr style=\"text-align: right;\">\n",
       "      <th></th>\n",
       "      <th>fit_time</th>\n",
       "      <th>score_time</th>\n",
       "      <th>test_accuracy</th>\n",
       "      <th>train_accuracy</th>\n",
       "      <th>test_f1</th>\n",
       "      <th>train_f1</th>\n",
       "      <th>test_recall</th>\n",
       "      <th>train_recall</th>\n",
       "      <th>test_precision</th>\n",
       "      <th>train_precision</th>\n",
       "    </tr>\n",
       "  </thead>\n",
       "  <tbody>\n",
       "    <tr>\n",
       "      <th>0</th>\n",
       "      <td>0.032035</td>\n",
       "      <td>0.007990</td>\n",
       "      <td>0.968750</td>\n",
       "      <td>0.968586</td>\n",
       "      <td>0.956522</td>\n",
       "      <td>0.954545</td>\n",
       "      <td>0.970588</td>\n",
       "      <td>0.954545</td>\n",
       "      <td>0.942857</td>\n",
       "      <td>0.954545</td>\n",
       "    </tr>\n",
       "    <tr>\n",
       "      <th>1</th>\n",
       "      <td>0.007993</td>\n",
       "      <td>0.008031</td>\n",
       "      <td>0.958333</td>\n",
       "      <td>0.968586</td>\n",
       "      <td>0.937500</td>\n",
       "      <td>0.954887</td>\n",
       "      <td>0.909091</td>\n",
       "      <td>0.954887</td>\n",
       "      <td>0.967742</td>\n",
       "      <td>0.954887</td>\n",
       "    </tr>\n",
       "    <tr>\n",
       "      <th>2</th>\n",
       "      <td>0.014350</td>\n",
       "      <td>0.000000</td>\n",
       "      <td>0.979167</td>\n",
       "      <td>0.958115</td>\n",
       "      <td>0.969697</td>\n",
       "      <td>0.939394</td>\n",
       "      <td>0.969697</td>\n",
       "      <td>0.932331</td>\n",
       "      <td>0.969697</td>\n",
       "      <td>0.946565</td>\n",
       "    </tr>\n",
       "    <tr>\n",
       "      <th>3</th>\n",
       "      <td>0.015629</td>\n",
       "      <td>0.000000</td>\n",
       "      <td>0.957895</td>\n",
       "      <td>0.968668</td>\n",
       "      <td>0.939394</td>\n",
       "      <td>0.954545</td>\n",
       "      <td>0.939394</td>\n",
       "      <td>0.947368</td>\n",
       "      <td>0.939394</td>\n",
       "      <td>0.961832</td>\n",
       "    </tr>\n",
       "    <tr>\n",
       "      <th>4</th>\n",
       "      <td>0.008034</td>\n",
       "      <td>0.008736</td>\n",
       "      <td>0.957895</td>\n",
       "      <td>0.968668</td>\n",
       "      <td>0.939394</td>\n",
       "      <td>0.954887</td>\n",
       "      <td>0.939394</td>\n",
       "      <td>0.954887</td>\n",
       "      <td>0.939394</td>\n",
       "      <td>0.954887</td>\n",
       "    </tr>\n",
       "  </tbody>\n",
       "</table>\n",
       "</div>"
      ],
      "text/plain": [
       "   fit_time  score_time  test_accuracy  train_accuracy   test_f1  train_f1  \\\n",
       "0  0.032035    0.007990       0.968750        0.968586  0.956522  0.954545   \n",
       "1  0.007993    0.008031       0.958333        0.968586  0.937500  0.954887   \n",
       "2  0.014350    0.000000       0.979167        0.958115  0.969697  0.939394   \n",
       "3  0.015629    0.000000       0.957895        0.968668  0.939394  0.954545   \n",
       "4  0.008034    0.008736       0.957895        0.968668  0.939394  0.954887   \n",
       "\n",
       "   test_recall  train_recall  test_precision  train_precision  \n",
       "0     0.970588      0.954545        0.942857         0.954545  \n",
       "1     0.909091      0.954887        0.967742         0.954887  \n",
       "2     0.969697      0.932331        0.969697         0.946565  \n",
       "3     0.939394      0.947368        0.939394         0.961832  \n",
       "4     0.939394      0.954887        0.939394         0.954887  "
      ]
     },
     "execution_count": 12,
     "metadata": {},
     "output_type": "execute_result"
    }
   ],
   "source": [
    "scoring = [\n",
    "    \"accuracy\",\n",
    "    \"f1\",\n",
    "    \"recall\",\n",
    "    \"precision\",\n",
    "]\n",
    "\n",
    "pipe_reg = make_pipeline(ct,LogisticRegression(max_iter=100000))\n",
    "\n",
    "scores = cross_validate(\n",
    "    pipe_reg, X_train, y_train, return_train_score=True, scoring= scoring \n",
    ")\n",
    "print(pd.DataFrame(scores).std())\n",
    "pd.DataFrame(scores)"
   ]
  },
  {
   "cell_type": "code",
   "execution_count": null,
   "id": "2949d0b7-ca80-42bd-b320-74c7a07ad95a",
   "metadata": {},
   "outputs": [],
   "source": []
  }
 ],
 "metadata": {
  "kernelspec": {
   "display_name": "Python 3 (ipykernel)",
   "language": "python",
   "name": "python3"
  },
  "language_info": {
   "codemirror_mode": {
    "name": "ipython",
    "version": 3
   },
   "file_extension": ".py",
   "mimetype": "text/x-python",
   "name": "python",
   "nbconvert_exporter": "python",
   "pygments_lexer": "ipython3",
   "version": "3.9.5"
  }
 },
 "nbformat": 4,
 "nbformat_minor": 5
}
