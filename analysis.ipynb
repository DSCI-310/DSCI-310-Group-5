{
 "cells": [
  {
   "cell_type": "markdown",
   "id": "ad53245c-0c82-435d-80a7-d346d6da3a16",
   "metadata": {},
   "source": [
    "# Predicting Breast Cancer With Multiple Classification Algorithms"
   ]
  },
  {
   "cell_type": "markdown",
   "id": "401a3aa8-ce1d-4694-973e-0860fc45f4ee",
   "metadata": {},
   "source": [
    "## Imports"
   ]
  },
  {
   "cell_type": "code",
   "execution_count": 1,
   "id": "fb8c38d2-f150-4adf-b164-8821d869967c",
   "metadata": {},
   "outputs": [],
   "source": [
    "import pandas as pd\n",
    "import numpy as np\n",
    "import matplotlib.pyplot as plt\n",
    "import os\n",
    "\n",
    "%matplotlib inline\n",
    "from sklearn.metrics import (\n",
    "    classification_report,\n",
    "    confusion_matrix,\n",
    "    f1_score,\n",
    "    make_scorer,\n",
    "    plot_confusion_matrix,\n",
    ")\n",
    "import numpy as np\n",
    "import pandas as pd\n",
    "import seaborn as sns\n",
    "from sklearn.cluster import DBSCAN, KMeans\n",
    "from sklearn.compose import ColumnTransformer, make_column_transformer\n",
    "from sklearn.feature_extraction.text import CountVectorizer\n",
    "from sklearn.impute import SimpleImputer\n",
    "from sklearn.linear_model import LogisticRegression\n",
    "from sklearn.metrics import r2_score\n",
    "from sklearn.model_selection import (\n",
    "    GridSearchCV,\n",
    "    RandomizedSearchCV,\n",
    "    cross_validate,\n",
    "    train_test_split,\n",
    ")\n",
    "from sklearn.pipeline import Pipeline, make_pipeline\n",
    "from sklearn.preprocessing import OneHotEncoder, OrdinalEncoder, StandardScaler\n",
    "from catboost import CatBoostClassifier\n",
    "from lightgbm.sklearn import LGBMClassifier\n",
    "from sklearn.tree import DecisionTreeClassifier\n",
    "from sklearn.ensemble import RandomForestClassifier\n",
    "import eli5\n",
    "import shap "
   ]
  },
  {
   "cell_type": "markdown",
   "id": "5f1797cc-ff12-4ab7-865a-39e4de581dd5",
   "metadata": {},
   "source": [
    "## Introduction\n",
    "\n",
    "### Summary\n",
    "\n",
    "In this project, we perform data analysis to look for the most efficient model to predict whether it is benign and malignant tumour based on different measurements/traits observed from the data. We use various machine learning algorithms that classify whether a breast tumour is malignant or benign accordingly, and eventually decide on the best algorithm for that task based on recall score. The dataset is obtained from https://archive.ics.uci.edu/ml/datasets/breast+cancer+wisconsin+%28original%29\n",
    "\n",
    "\n",
    "### Background\n",
    "\n",
    "Breast cancer is the development of cancerous tissue of the breast. A malignant (cancerous) tumour can destroy other healthy tissue surroungding it and the disease could potentially metastasize, causing numerous other health complications. However, a tumour might or might not be cancerous. A benign (non-cancerous) tumour will not cause as much harm to the patient compared to a malignant one. With that in mind, an early diagnosis of a **malignant tumour** would give both patients and health care providers valuable time to quickly devise various treatment plans to stop the progression of the disease. This is important especially for a silent killer like cancer, in which the earlier a correct diagnosis has been made, the drastically better the prognosis.\n",
    "This raises the question:\n",
    "\n",
    "**Can we predict whether a tumor is malignant or benign based  on the different features observed from the tumour?**\n",
    "\n",
    "### Dataset Description\n",
    "\n",
    "The dataset we use: Breast Cancer Wisconsin (Original) Data Set, created by Dr. WIlliam H. Wolberg (physician), contains the following features with 699 observations:\n",
    "\n",
    "1. Sample code number: id number\n",
    "2. Clump Thickness: 1 - 10\n",
    "3. Uniformity of Cell Size: 1 - 10\n",
    "4. Uniformity of Cell Shape: 1 - 10\n",
    "5. Marginal Adhesion: 1 - 10\n",
    "6. Single Epithelial Cell Size: 1 - 10\n",
    "7. Bare Nuclei: 1 - 10\n",
    "8. Bland Chromatin: 1 - 10\n",
    "9. Normal Nucleoli: 1 - 10\n",
    "10. Mitoses: 1 - 10\n",
    "\n",
    "With the relevant target class:\n",
    "\n",
    "11. Class: (2 for benign, 4 for malignant)"
   ]
  },
  {
   "cell_type": "markdown",
   "id": "dd262343-2548-4e20-9b53-7dd755452533",
   "metadata": {
    "tags": []
   },
   "source": [
    "## Exploratory Data Analysis"
   ]
  },
  {
   "cell_type": "markdown",
   "id": "58b718ab-46ce-4c12-b28e-81d1d12de018",
   "metadata": {},
   "source": [
    "Since the dataset did not come with column headers, we will first manually add them and load data. The headers will correspond to the order of their respective description above."
   ]
  },
  {
   "cell_type": "code",
   "execution_count": 2,
   "id": "6bf79be5-2e57-408d-974f-186c6477c259",
   "metadata": {},
   "outputs": [],
   "source": [
    "col_names = [\"id\", \"clump\", \"unif_size\", \"unif_shape\", \"adhesion\", \"epi_size\",\n",
    "             \"nuclei\", \"chromatin\", \"nucleoli\", \"mitoses\", \"class\"]\n",
    "\n",
    "dataset = pd.read_csv(\"data/breast_cancer.txt\", names=col_names, sep=\",\")"
   ]
  },
  {
   "cell_type": "code",
   "execution_count": 3,
   "id": "33dfdc81-b2a2-451e-a16c-60172f67bce5",
   "metadata": {},
   "outputs": [
    {
     "data": {
      "text/html": [
       "<div>\n",
       "<style scoped>\n",
       "    .dataframe tbody tr th:only-of-type {\n",
       "        vertical-align: middle;\n",
       "    }\n",
       "\n",
       "    .dataframe tbody tr th {\n",
       "        vertical-align: top;\n",
       "    }\n",
       "\n",
       "    .dataframe thead th {\n",
       "        text-align: right;\n",
       "    }\n",
       "</style>\n",
       "<table border=\"1\" class=\"dataframe\">\n",
       "  <thead>\n",
       "    <tr style=\"text-align: right;\">\n",
       "      <th></th>\n",
       "      <th>id</th>\n",
       "      <th>clump</th>\n",
       "      <th>unif_size</th>\n",
       "      <th>unif_shape</th>\n",
       "      <th>adhesion</th>\n",
       "      <th>epi_size</th>\n",
       "      <th>nuclei</th>\n",
       "      <th>chromatin</th>\n",
       "      <th>nucleoli</th>\n",
       "      <th>mitoses</th>\n",
       "      <th>class</th>\n",
       "    </tr>\n",
       "  </thead>\n",
       "  <tbody>\n",
       "    <tr>\n",
       "      <th>0</th>\n",
       "      <td>1000025</td>\n",
       "      <td>5</td>\n",
       "      <td>1</td>\n",
       "      <td>1</td>\n",
       "      <td>1</td>\n",
       "      <td>2</td>\n",
       "      <td>1</td>\n",
       "      <td>3</td>\n",
       "      <td>1</td>\n",
       "      <td>1</td>\n",
       "      <td>2</td>\n",
       "    </tr>\n",
       "    <tr>\n",
       "      <th>1</th>\n",
       "      <td>1002945</td>\n",
       "      <td>5</td>\n",
       "      <td>4</td>\n",
       "      <td>4</td>\n",
       "      <td>5</td>\n",
       "      <td>7</td>\n",
       "      <td>10</td>\n",
       "      <td>3</td>\n",
       "      <td>2</td>\n",
       "      <td>1</td>\n",
       "      <td>2</td>\n",
       "    </tr>\n",
       "    <tr>\n",
       "      <th>2</th>\n",
       "      <td>1015425</td>\n",
       "      <td>3</td>\n",
       "      <td>1</td>\n",
       "      <td>1</td>\n",
       "      <td>1</td>\n",
       "      <td>2</td>\n",
       "      <td>2</td>\n",
       "      <td>3</td>\n",
       "      <td>1</td>\n",
       "      <td>1</td>\n",
       "      <td>2</td>\n",
       "    </tr>\n",
       "    <tr>\n",
       "      <th>3</th>\n",
       "      <td>1016277</td>\n",
       "      <td>6</td>\n",
       "      <td>8</td>\n",
       "      <td>8</td>\n",
       "      <td>1</td>\n",
       "      <td>3</td>\n",
       "      <td>4</td>\n",
       "      <td>3</td>\n",
       "      <td>7</td>\n",
       "      <td>1</td>\n",
       "      <td>2</td>\n",
       "    </tr>\n",
       "    <tr>\n",
       "      <th>4</th>\n",
       "      <td>1017023</td>\n",
       "      <td>4</td>\n",
       "      <td>1</td>\n",
       "      <td>1</td>\n",
       "      <td>3</td>\n",
       "      <td>2</td>\n",
       "      <td>1</td>\n",
       "      <td>3</td>\n",
       "      <td>1</td>\n",
       "      <td>1</td>\n",
       "      <td>2</td>\n",
       "    </tr>\n",
       "  </tbody>\n",
       "</table>\n",
       "</div>"
      ],
      "text/plain": [
       "        id  clump  unif_size  unif_shape  adhesion  epi_size nuclei  \\\n",
       "0  1000025      5          1           1         1         2      1   \n",
       "1  1002945      5          4           4         5         7     10   \n",
       "2  1015425      3          1           1         1         2      2   \n",
       "3  1016277      6          8           8         1         3      4   \n",
       "4  1017023      4          1           1         3         2      1   \n",
       "\n",
       "   chromatin  nucleoli  mitoses  class  \n",
       "0          3         1        1      2  \n",
       "1          3         2        1      2  \n",
       "2          3         1        1      2  \n",
       "3          3         7        1      2  \n",
       "4          3         1        1      2  "
      ]
     },
     "execution_count": 3,
     "metadata": {},
     "output_type": "execute_result"
    }
   ],
   "source": [
    "dataset.head()"
   ]
  },
  {
   "cell_type": "code",
   "execution_count": 4,
   "id": "bbd689f2-73a5-4c95-9bd0-5600eb357a05",
   "metadata": {},
   "outputs": [
    {
     "name": "stdout",
     "output_type": "stream",
     "text": [
      "<class 'pandas.core.frame.DataFrame'>\n",
      "RangeIndex: 699 entries, 0 to 698\n",
      "Data columns (total 11 columns):\n",
      " #   Column      Non-Null Count  Dtype \n",
      "---  ------      --------------  ----- \n",
      " 0   id          699 non-null    int64 \n",
      " 1   clump       699 non-null    int64 \n",
      " 2   unif_size   699 non-null    int64 \n",
      " 3   unif_shape  699 non-null    int64 \n",
      " 4   adhesion    699 non-null    int64 \n",
      " 5   epi_size    699 non-null    int64 \n",
      " 6   nuclei      699 non-null    object\n",
      " 7   chromatin   699 non-null    int64 \n",
      " 8   nucleoli    699 non-null    int64 \n",
      " 9   mitoses     699 non-null    int64 \n",
      " 10  class       699 non-null    int64 \n",
      "dtypes: int64(10), object(1)\n",
      "memory usage: 60.2+ KB\n"
     ]
    }
   ],
   "source": [
    "dataset.info()"
   ]
  },
  {
   "cell_type": "markdown",
   "id": "a699c7bc-3c59-47bc-b24a-899874901ff5",
   "metadata": {},
   "source": [
    "We see that the dataset uses \"?\" for missing data so we eliminate rows that contain \"?\". As shown above, all of the variables are numeric except for variables nuclei, we decide to transform it into type int for ease of data analysis later on. Finally, \"id\" feature does not appear to be useful for the prediction task; hence, it is dropped before carrying on to further analysis. "
   ]
  },
  {
   "cell_type": "code",
   "execution_count": 5,
   "id": "b8dbdb81-7d3b-4613-9793-3be8d36f68bb",
   "metadata": {},
   "outputs": [],
   "source": [
    "dataset = dataset[(dataset != '?').all(axis=1)]\n",
    "dataset['nuclei'] = dataset['nuclei'].astype(int)\n",
    "dataset = dataset.drop(columns=[\"id\"])"
   ]
  },
  {
   "cell_type": "markdown",
   "id": "67d1e2f5-62e2-4dcc-b6cc-d26fdc9b2861",
   "metadata": {},
   "source": [
    "We also decide to replace benign class from 2 to 0 and malignant class from 4 to 1 since if we keep values of 2 and 4, it would be hard for predictive models to calculate accuracy, precision, and so on. "
   ]
  },
  {
   "cell_type": "code",
   "execution_count": 6,
   "id": "2296aeeb-1fa5-4d54-b388-9d6223138d34",
   "metadata": {},
   "outputs": [
    {
     "data": {
      "text/plain": [
       "0    0.650073\n",
       "1    0.349927\n",
       "Name: class, dtype: float64"
      ]
     },
     "execution_count": 6,
     "metadata": {},
     "output_type": "execute_result"
    }
   ],
   "source": [
    "dataset['class'] = dataset['class'].replace([2],0)\n",
    "dataset['class'] = dataset['class'].replace([4],1) \n",
    "dataset['class'].value_counts(normalize = True)\n",
    "  "
   ]
  },
  {
   "cell_type": "markdown",
   "id": "0f7ee734-d022-4e9b-a715-7f5ed36dfdba",
   "metadata": {},
   "source": [
    "There is an imbalance in the dataset between benign and malignant. We want to further investigate the malignant examples (class = 4); hence the classes should have same importance so recall would be the most appropriate and main metric for this project. This is due to the fact that in a medical diagnosis setting, false negative result for a disease like cancer will cause a lot more harm than a false positive result.\n",
    "\n",
    "Then we split the data into training and testing sets (X_train, X_test, y_train, y_test) and extract names of numeric features for further exploration. \n",
    " "
   ]
  },
  {
   "cell_type": "code",
   "execution_count": 7,
   "id": "6fafdaf3-305b-447b-91e9-062c4180bf8a",
   "metadata": {},
   "outputs": [
    {
     "name": "stdout",
     "output_type": "stream",
     "text": [
      "<class 'pandas.core.frame.DataFrame'>\n",
      "Int64Index: 478 entries, 696 to 525\n",
      "Data columns (total 10 columns):\n",
      " #   Column      Non-Null Count  Dtype\n",
      "---  ------      --------------  -----\n",
      " 0   clump       478 non-null    int64\n",
      " 1   unif_size   478 non-null    int64\n",
      " 2   unif_shape  478 non-null    int64\n",
      " 3   adhesion    478 non-null    int64\n",
      " 4   epi_size    478 non-null    int64\n",
      " 5   nuclei      478 non-null    int32\n",
      " 6   chromatin   478 non-null    int64\n",
      " 7   nucleoli    478 non-null    int64\n",
      " 8   mitoses     478 non-null    int64\n",
      " 9   class       478 non-null    int64\n",
      "dtypes: int32(1), int64(9)\n",
      "memory usage: 39.2 KB\n"
     ]
    }
   ],
   "source": [
    "train_df, test_df = train_test_split(dataset, test_size=0.3, random_state=123)\n",
    "X_train = train_df.drop(columns=[\"class\"])\n",
    "X_test = test_df.drop(columns=[\"class\"])\n",
    "\n",
    "y_train = train_df[\"class\"]\n",
    "y_test = test_df[\"class\"]\n",
    "numeric_looking_columns = X_train.select_dtypes(include=np.number).columns.tolist()\n",
    "train_df.info()"
   ]
  },
  {
   "cell_type": "code",
   "execution_count": 8,
   "id": "2733b8b3-823f-434e-bcf6-73193cf3c340",
   "metadata": {},
   "outputs": [
    {
     "data": {
      "image/png": "[encoded data removed]",
      "text/plain": [
       "<Figure size 432x288 with 1 Axes>"
      ]
     },
     "metadata": {
      "needs_background": "light"
     },
     "output_type": "display_data"
    },
    {
     "data": {
      "image/png": "[encoded data removed]",
      "text/plain": [
       "<Figure size 432x288 with 1 Axes>"
      ]
     },
     "metadata": {
      "needs_background": "light"
     },
     "output_type": "display_data"
    },
    {
     "data": {
      "image/png": "[encoded data removed]",
      "text/plain": [
       "<Figure size 432x288 with 1 Axes>"
      ]
     },
     "metadata": {
      "needs_background": "light"
     },
     "output_type": "display_data"
    },
    {
     "data": {
      "image/png": "[encoded data removed]",
      "text/plain": [
       "<Figure size 432x288 with 1 Axes>"
      ]
     },
     "metadata": {
      "needs_background": "light"
     },
     "output_type": "display_data"
    },
    {
     "data": {
      "image/png": "[encoded data removed]",
      "text/plain": [
       "<Figure size 432x288 with 1 Axes>"
      ]
     },
     "metadata": {
      "needs_background": "light"
     },
     "output_type": "display_data"
    },
    {
     "data": {
      "image/png": "[encoded data removed]",
      "text/plain": [
       "<Figure size 432x288 with 1 Axes>"
      ]
     },
     "metadata": {
      "needs_background": "light"
     },
     "output_type": "display_data"
    },
    {
     "data": {
      "image/png": "[encoded data removed]",
      "text/plain": [
       "<Figure size 432x288 with 1 Axes>"
      ]
     },
     "metadata": {
      "needs_background": "light"
     },
     "output_type": "display_data"
    },
    {
     "data": {
      "image/png": "[encoded data removed]",
      "text/plain": [
       "<Figure size 432x288 with 1 Axes>"
      ]
     },
     "metadata": {
      "needs_background": "light"
     },
     "output_type": "display_data"
    },
    {
     "data": {
      "image/png": "[encoded data removed]",
      "text/plain": [
       "<Figure size 432x288 with 1 Axes>"
      ]
     },
     "metadata": {
      "needs_background": "light"
     },
     "output_type": "display_data"
    }
   ],
   "source": [
    "benign_cases = train_df[train_df[\"class\"] == 0]\n",
    "                    \n",
    "malignant_cases = train_df[train_df[\"class\"] == 1]\n",
    "\n",
    "def plots(): \n",
    "    for x in numeric_looking_columns:\n",
    "        x1 = benign_cases[x]\n",
    "        y1 = malignant_cases[x]\n",
    "        plt.hist([x1, y1], label=['benign', 'malignant'])\n",
    "        plt.title('Histogram of ' + x)\n",
    "        plt.xlabel(x)\n",
    "        plt.ylabel('frequency')\n",
    "        plt.legend(loc='upper right', fontsize = 8)\n",
    "        plt.show()\n",
    "\n",
    "plots()"
   ]
  },
  {
   "cell_type": "code",
   "execution_count": 9,
   "id": "f8ded5a1-b833-4bfc-bbdb-b3ccbef1a6c5",
   "metadata": {},
   "outputs": [
    {
     "data": {
      "image/png": "[encoded data removed]",
      "text/plain": [
       "<Figure size 1440x1800 with 9 Axes>"
      ]
     },
     "metadata": {
      "needs_background": "light"
     },
     "output_type": "display_data"
    }
   ],
   "source": [
    "fig, ax = plt.subplots(3, 3, figsize=(20, 25))\n",
    "for var, subplot in zip(numeric_looking_columns, ax.flatten()):\n",
    "    sns.boxplot(x='class', y=var, data=train_df, ax=subplot)"
   ]
  },
  {
   "cell_type": "markdown",
   "id": "48ab9494-6374-4ad8-8c0a-a5f731f2bf1d",
   "metadata": {},
   "source": [
    "*Comments on above plots:*\n",
    "\n",
    "\n",
    "\n"
   ]
  },
  {
   "cell_type": "markdown",
   "id": "7eacb838-812a-406b-b2ac-47f15654ae16",
   "metadata": {},
   "source": [
    "## Preprocessing "
   ]
  },
  {
   "cell_type": "markdown",
   "id": "ff79cc63-7d45-47b7-8c2e-a13de6e8a2eb",
   "metadata": {},
   "source": [
    "Since all features are numeric, we decide to scale our data as so to ensure that there is no bias present when predicting results. "
   ]
  },
  {
   "cell_type": "code",
   "execution_count": 10,
   "id": "767cf662-3d4e-48fb-9668-7374578a1045",
   "metadata": {},
   "outputs": [],
   "source": [
    "numeric_transformer = StandardScaler()\n",
    "ct = make_column_transformer(\n",
    "    (numeric_transformer, numeric_looking_columns))"
   ]
  },
  {
   "cell_type": "markdown",
   "id": "acf84d72-f88b-4dec-8333-c20a1f522569",
   "metadata": {},
   "source": [
    "## Data analysis \n",
    "\n",
    "Even though the main score we will be comparing when choosing the models is recall, we still want to look into accuracy and decision. Because between a model performs well on recall but have very low accuracy and precision versus a model performs just a bit worse on recall but have excellent accuracy and precision, the latter model will still have an upper hand. "
   ]
  },
  {
   "cell_type": "code",
   "execution_count": 11,
   "id": "2c66b157-c5f0-4e46-ba3a-bdd3cc4818e2",
   "metadata": {},
   "outputs": [],
   "source": [
    "scoring = [\n",
    "    \"accuracy\",\n",
    "    \"f1\",\n",
    "    \"recall\",\n",
    "    \"precision\",\n",
    "]"
   ]
  },
  {
   "cell_type": "markdown",
   "id": "c4fe90c6-8d78-4c0a-a38a-1eee0364d3bc",
   "metadata": {},
   "source": [
    "We create a function which applies the given model for X_train, y_train and then returns mean and std of cross-validation scores. \n",
    "\n",
    "We decide to test 5 models: Decision Tree, Random Forest, LightGBM, CatBoost and Logistic Regression. Decision Tree and Logistic Regression are simple models with fast fit_time and moderate precision and accuracy. The rest are more complex models which I believe will take more time to run but will give out better precision and accuracy.\n"
   ]
  },
  {
   "cell_type": "code",
   "execution_count": 12,
   "id": "2949d0b7-ca80-42bd-b320-74c7a07ad95a",
   "metadata": {},
   "outputs": [],
   "source": [
    "def mean_std_cross_val_scores(model, X_train, y_train, **kwargs):\n",
    "    \"\"\"\n",
    "    Returns mean and std of cross validation\n",
    "\n",
    "    Parameters\n",
    "    ----------\n",
    "    model :\n",
    "        scikit-learn model\n",
    "    X_train : numpy array or pandas DataFrame\n",
    "        X in the training data\n",
    "    y_train :\n",
    "        y in the training data\n",
    "\n",
    "    Returns\n",
    "    ----------\n",
    "        pandas Series with mean scores from cross_validation\n",
    "    \"\"\"\n",
    "\n",
    "    scores = cross_validate(model, X_train, y_train, **kwargs)\n",
    "\n",
    "    mean_scores = pd.DataFrame(scores).mean()\n",
    "    std_scores = pd.DataFrame(scores).std()\n",
    "    out_col = []\n",
    "\n",
    "    for i in range(len(mean_scores)):\n",
    "        out_col.append((f\"%0.3f (+/- %0.3f)\" % (mean_scores[i], std_scores[i])))\n",
    "\n",
    "    return pd.Series(data=out_col, index=mean_scores.index)"
   ]
  },
  {
   "cell_type": "code",
   "execution_count": 13,
   "id": "3a4062e1-9429-49ac-86d3-55d549c84939",
   "metadata": {},
   "outputs": [
    {
     "data": {
      "text/html": [
       "<div>\n",
       "<style scoped>\n",
       "    .dataframe tbody tr th:only-of-type {\n",
       "        vertical-align: middle;\n",
       "    }\n",
       "\n",
       "    .dataframe tbody tr th {\n",
       "        vertical-align: top;\n",
       "    }\n",
       "\n",
       "    .dataframe thead th {\n",
       "        text-align: right;\n",
       "    }\n",
       "</style>\n",
       "<table border=\"1\" class=\"dataframe\">\n",
       "  <thead>\n",
       "    <tr style=\"text-align: right;\">\n",
       "      <th></th>\n",
       "      <th>fit_time</th>\n",
       "      <th>score_time</th>\n",
       "      <th>test_accuracy</th>\n",
       "      <th>train_accuracy</th>\n",
       "      <th>test_f1</th>\n",
       "      <th>train_f1</th>\n",
       "      <th>test_recall</th>\n",
       "      <th>train_recall</th>\n",
       "      <th>test_precision</th>\n",
       "      <th>train_precision</th>\n",
       "    </tr>\n",
       "  </thead>\n",
       "  <tbody>\n",
       "    <tr>\n",
       "      <th>Decision Tree</th>\n",
       "      <td>0.006 (+/- 0.007)</td>\n",
       "      <td>0.008 (+/- 0.000)</td>\n",
       "      <td>0.952 (+/- 0.016)</td>\n",
       "      <td>1.000 (+/- 0.000)</td>\n",
       "      <td>0.930 (+/- 0.023)</td>\n",
       "      <td>1.000 (+/- 0.000)</td>\n",
       "      <td>0.927 (+/- 0.041)</td>\n",
       "      <td>1.000 (+/- 0.000)</td>\n",
       "      <td>0.935 (+/- 0.034)</td>\n",
       "      <td>1.000 (+/- 0.000)</td>\n",
       "    </tr>\n",
       "    <tr>\n",
       "      <th>Random Forest</th>\n",
       "      <td>0.176 (+/- 0.008)</td>\n",
       "      <td>0.018 (+/- 0.003)</td>\n",
       "      <td>0.971 (+/- 0.005)</td>\n",
       "      <td>1.000 (+/- 0.000)</td>\n",
       "      <td>0.958 (+/- 0.006)</td>\n",
       "      <td>1.000 (+/- 0.000)</td>\n",
       "      <td>0.970 (+/- 0.000)</td>\n",
       "      <td>1.000 (+/- 0.000)</td>\n",
       "      <td>0.947 (+/- 0.013)</td>\n",
       "      <td>1.000 (+/- 0.000)</td>\n",
       "    </tr>\n",
       "    <tr>\n",
       "      <th>LightGBM</th>\n",
       "      <td>0.077 (+/- 0.051)</td>\n",
       "      <td>0.003 (+/- 0.004)</td>\n",
       "      <td>0.969 (+/- 0.013)</td>\n",
       "      <td>1.000 (+/- 0.000)</td>\n",
       "      <td>0.956 (+/- 0.017)</td>\n",
       "      <td>1.000 (+/- 0.000)</td>\n",
       "      <td>0.976 (+/- 0.025)</td>\n",
       "      <td>1.000 (+/- 0.000)</td>\n",
       "      <td>0.938 (+/- 0.028)</td>\n",
       "      <td>1.000 (+/- 0.000)</td>\n",
       "    </tr>\n",
       "    <tr>\n",
       "      <th>CatBoost</th>\n",
       "      <td>0.854 (+/- 0.299)</td>\n",
       "      <td>0.003 (+/- 0.007)</td>\n",
       "      <td>0.969 (+/- 0.007)</td>\n",
       "      <td>1.000 (+/- 0.000)</td>\n",
       "      <td>0.956 (+/- 0.010)</td>\n",
       "      <td>1.000 (+/- 0.000)</td>\n",
       "      <td>0.970 (+/- 0.000)</td>\n",
       "      <td>1.000 (+/- 0.000)</td>\n",
       "      <td>0.942 (+/- 0.019)</td>\n",
       "      <td>1.000 (+/- 0.000)</td>\n",
       "    </tr>\n",
       "    <tr>\n",
       "      <th>Logistic Regression</th>\n",
       "      <td>0.019 (+/- 0.017)</td>\n",
       "      <td>0.003 (+/- 0.007)</td>\n",
       "      <td>0.964 (+/- 0.009)</td>\n",
       "      <td>0.967 (+/- 0.005)</td>\n",
       "      <td>0.949 (+/- 0.014)</td>\n",
       "      <td>0.952 (+/- 0.007)</td>\n",
       "      <td>0.946 (+/- 0.026)</td>\n",
       "      <td>0.949 (+/- 0.010)</td>\n",
       "      <td>0.952 (+/- 0.016)</td>\n",
       "      <td>0.955 (+/- 0.005)</td>\n",
       "    </tr>\n",
       "  </tbody>\n",
       "</table>\n",
       "</div>"
      ],
      "text/plain": [
       "                              fit_time         score_time      test_accuracy  \\\n",
       "Decision Tree        0.006 (+/- 0.007)  0.008 (+/- 0.000)  0.952 (+/- 0.016)   \n",
       "Random Forest        0.176 (+/- 0.008)  0.018 (+/- 0.003)  0.971 (+/- 0.005)   \n",
       "LightGBM             0.077 (+/- 0.051)  0.003 (+/- 0.004)  0.969 (+/- 0.013)   \n",
       "CatBoost             0.854 (+/- 0.299)  0.003 (+/- 0.007)  0.969 (+/- 0.007)   \n",
       "Logistic Regression  0.019 (+/- 0.017)  0.003 (+/- 0.007)  0.964 (+/- 0.009)   \n",
       "\n",
       "                        train_accuracy            test_f1           train_f1  \\\n",
       "Decision Tree        1.000 (+/- 0.000)  0.930 (+/- 0.023)  1.000 (+/- 0.000)   \n",
       "Random Forest        1.000 (+/- 0.000)  0.958 (+/- 0.006)  1.000 (+/- 0.000)   \n",
       "LightGBM             1.000 (+/- 0.000)  0.956 (+/- 0.017)  1.000 (+/- 0.000)   \n",
       "CatBoost             1.000 (+/- 0.000)  0.956 (+/- 0.010)  1.000 (+/- 0.000)   \n",
       "Logistic Regression  0.967 (+/- 0.005)  0.949 (+/- 0.014)  0.952 (+/- 0.007)   \n",
       "\n",
       "                           test_recall       train_recall     test_precision  \\\n",
       "Decision Tree        0.927 (+/- 0.041)  1.000 (+/- 0.000)  0.935 (+/- 0.034)   \n",
       "Random Forest        0.970 (+/- 0.000)  1.000 (+/- 0.000)  0.947 (+/- 0.013)   \n",
       "LightGBM             0.976 (+/- 0.025)  1.000 (+/- 0.000)  0.938 (+/- 0.028)   \n",
       "CatBoost             0.970 (+/- 0.000)  1.000 (+/- 0.000)  0.942 (+/- 0.019)   \n",
       "Logistic Regression  0.946 (+/- 0.026)  0.949 (+/- 0.010)  0.952 (+/- 0.016)   \n",
       "\n",
       "                       train_precision  \n",
       "Decision Tree        1.000 (+/- 0.000)  \n",
       "Random Forest        1.000 (+/- 0.000)  \n",
       "LightGBM             1.000 (+/- 0.000)  \n",
       "CatBoost             1.000 (+/- 0.000)  \n",
       "Logistic Regression  0.955 (+/- 0.005)  "
      ]
     },
     "execution_count": 13,
     "metadata": {},
     "output_type": "execute_result"
    }
   ],
   "source": [
    "pipe_dt = make_pipeline(ct, DecisionTreeClassifier(random_state=123))\n",
    "pipe_rf = make_pipeline(ct, RandomForestClassifier(random_state=123))\n",
    "pipe_lgbm = make_pipeline(ct, LGBMClassifier(random_state=123))\n",
    "pipe_catboost = make_pipeline(\n",
    "    # silent=True since catboost output a lot of stuffs\n",
    "    # allow_writing_files=False since we dont really use the catboost_info generated files\n",
    "    ct, CatBoostClassifier(silent=True, \n",
    "                           allow_writing_files=False, \n",
    "                           random_state=123)\n",
    ")\n",
    "pipe_reg = make_pipeline(ct, LogisticRegression(max_iter=100000))\n",
    "\n",
    "classifiers = {\n",
    "    \"Decision Tree\": pipe_dt,\n",
    "    \"Random Forest\": pipe_rf,\n",
    "    \"LightGBM\": pipe_lgbm,\n",
    "    \"CatBoost\": pipe_catboost,\n",
    "    \"Logistic Regression\" : pipe_reg\n",
    "}\n",
    "\n",
    "results = {}\n",
    "\n",
    "for (name, model) in classifiers.items():\n",
    "    results[name] = mean_std_cross_val_scores(\n",
    "        model, \n",
    "        X_train, \n",
    "        y_train, \n",
    "        return_train_score=True, \n",
    "        scoring = scoring\n",
    "    )\n",
    "\n",
    "pd.DataFrame(results).T"
   ]
  },
  {
   "cell_type": "markdown",
   "id": "5caff86b-85ae-4ded-9664-fe6e277c6f53",
   "metadata": {},
   "source": [
    "As shown above, LightGBM model is the best performing model with the highest test_recall score, 0.976, and high test_precision and test_accuracy, 0.938 and 0.969 respectively. Even though Random Forest has higher accuracy and precision score, its fit_time is way larger and recall score is lower than those of LightGBM so overall, Random Forest model still performs worse in this case.\n",
    "\n",
    "After choosing the most efficient model, we move onto tuning the hyperparameters for the model to increase its performance. We decide to tune num_leaves to control the complexity of the model, min_data_in_leaf to prevent over-fitting in a leaf-wise tree and finally, max_depth to limit tree depth. "
   ]
  },
  {
   "cell_type": "code",
   "execution_count": 34,
   "id": "73fb1f8d-a99f-451c-9fa5-2055cff35fe1",
   "metadata": {},
   "outputs": [
    {
     "name": "stdout",
     "output_type": "stream",
     "text": [
      "0.976114081996435\n",
      "{'lgbmclassifier__max_depth': 30, 'lgbmclassifier__min_data_in_leaf': 5, 'lgbmclassifier__num_leaves': 20}\n"
     ]
    }
   ],
   "source": [
    "rs_params = {\n",
    "        'lgbmclassifier__max_depth': (1, 30, 2),\n",
    "        'lgbmclassifier__min_data_in_leaf': (5, 1200, 5),\n",
    "        'lgbmclassifier__num_leaves': (20, 1550, 5)}\n",
    "\n",
    "search = GridSearchCV(\n",
    "    pipe_lgbm, \n",
    "    rs_params, \n",
    "    cv=5, \n",
    "    n_jobs=-1,  \n",
    "    scoring=\"recall\", \n",
    "    return_train_score=True,\n",
    ")\n",
    "\n",
    "search.fit(X_train, y_train)\n",
    "print(search.best_score_)\n",
    "print(search.best_params_)"
   ]
  },
  {
   "cell_type": "markdown",
   "id": "dd0b0e0f-8ad2-496e-8e9a-6fab51242073",
   "metadata": {},
   "source": [
    "The results above shows with 'lgbmclassifier__max_depth': 30, 'lgbmclassifier__min_data_in_leaf': 5, 'lgbmclassifier__num_leaves': 20, the model would achieve its highest performance (with recall score of 0.9761)."
   ]
  },
  {
   "cell_type": "markdown",
   "id": "c180470d-72d1-4da0-9379-9f77bfb94221",
   "metadata": {},
   "source": [
    "## Feature importance \n"
   ]
  },
  {
   "cell_type": "code",
   "execution_count": 35,
   "id": "e7f7ff6b-a695-4dc4-af44-6285e8db77d4",
   "metadata": {},
   "outputs": [
    {
     "data": {
      "text/html": [
       "\n",
       "    <style>\n",
       "    table.eli5-weights tr:hover {\n",
       "        filter: brightness(85%);\n",
       "    }\n",
       "</style>\n",
       "\n",
       "\n",
       "\n",
       "    \n",
       "\n",
       "    \n",
       "\n",
       "    \n",
       "\n",
       "    \n",
       "\n",
       "    \n",
       "\n",
       "    \n",
       "\n",
       "\n",
       "    \n",
       "\n",
       "    \n",
       "\n",
       "    \n",
       "\n",
       "    \n",
       "\n",
       "    \n",
       "\n",
       "    \n",
       "\n",
       "\n",
       "    \n",
       "\n",
       "    \n",
       "\n",
       "    \n",
       "\n",
       "    \n",
       "\n",
       "    \n",
       "        <table class=\"eli5-weights eli5-feature-importances\" style=\"border-collapse: collapse; border: none; margin-top: 0em; table-layout: auto;\">\n",
       "    <thead>\n",
       "    <tr style=\"border: none;\">\n",
       "        <th style=\"padding: 0 1em 0 0.5em; text-align: right; border: none;\">Weight</th>\n",
       "        <th style=\"padding: 0 0.5em 0 0.5em; text-align: left; border: none;\">Feature</th>\n",
       "    </tr>\n",
       "    </thead>\n",
       "    <tbody>\n",
       "    \n",
       "        <tr style=\"background-color: hsl(120, 100.00%, 80.00%); border: none;\">\n",
       "            <td style=\"padding: 0 1em 0 0.5em; text-align: right; border: none;\">\n",
       "                0.5668\n",
       "                \n",
       "            </td>\n",
       "            <td style=\"padding: 0 0.5em 0 0.5em; text-align: left; border: none;\">\n",
       "                unif_size\n",
       "            </td>\n",
       "        </tr>\n",
       "    \n",
       "        <tr style=\"background-color: hsl(120, 100.00%, 91.91%); border: none;\">\n",
       "            <td style=\"padding: 0 1em 0 0.5em; text-align: right; border: none;\">\n",
       "                0.1555\n",
       "                \n",
       "            </td>\n",
       "            <td style=\"padding: 0 0.5em 0 0.5em; text-align: left; border: none;\">\n",
       "                nuclei\n",
       "            </td>\n",
       "        </tr>\n",
       "    \n",
       "        <tr style=\"background-color: hsl(120, 100.00%, 93.67%); border: none;\">\n",
       "            <td style=\"padding: 0 1em 0 0.5em; text-align: right; border: none;\">\n",
       "                0.1096\n",
       "                \n",
       "            </td>\n",
       "            <td style=\"padding: 0 0.5em 0 0.5em; text-align: left; border: none;\">\n",
       "                unif_shape\n",
       "            </td>\n",
       "        </tr>\n",
       "    \n",
       "        <tr style=\"background-color: hsl(120, 100.00%, 96.20%); border: none;\">\n",
       "            <td style=\"padding: 0 1em 0 0.5em; text-align: right; border: none;\">\n",
       "                0.0528\n",
       "                \n",
       "            </td>\n",
       "            <td style=\"padding: 0 0.5em 0 0.5em; text-align: left; border: none;\">\n",
       "                clump\n",
       "            </td>\n",
       "        </tr>\n",
       "    \n",
       "        <tr style=\"background-color: hsl(120, 100.00%, 97.22%); border: none;\">\n",
       "            <td style=\"padding: 0 1em 0 0.5em; text-align: right; border: none;\">\n",
       "                0.0338\n",
       "                \n",
       "            </td>\n",
       "            <td style=\"padding: 0 0.5em 0 0.5em; text-align: left; border: none;\">\n",
       "                adhesion\n",
       "            </td>\n",
       "        </tr>\n",
       "    \n",
       "        <tr style=\"background-color: hsl(120, 100.00%, 97.41%); border: none;\">\n",
       "            <td style=\"padding: 0 1em 0 0.5em; text-align: right; border: none;\">\n",
       "                0.0305\n",
       "                \n",
       "            </td>\n",
       "            <td style=\"padding: 0 0.5em 0 0.5em; text-align: left; border: none;\">\n",
       "                nucleoli\n",
       "            </td>\n",
       "        </tr>\n",
       "    \n",
       "        <tr style=\"background-color: hsl(120, 100.00%, 97.79%); border: none;\">\n",
       "            <td style=\"padding: 0 1em 0 0.5em; text-align: right; border: none;\">\n",
       "                0.0244\n",
       "                \n",
       "            </td>\n",
       "            <td style=\"padding: 0 0.5em 0 0.5em; text-align: left; border: none;\">\n",
       "                chromatin\n",
       "            </td>\n",
       "        </tr>\n",
       "    \n",
       "        <tr style=\"background-color: hsl(120, 100.00%, 98.08%); border: none;\">\n",
       "            <td style=\"padding: 0 1em 0 0.5em; text-align: right; border: none;\">\n",
       "                0.0200\n",
       "                \n",
       "            </td>\n",
       "            <td style=\"padding: 0 0.5em 0 0.5em; text-align: left; border: none;\">\n",
       "                epi_size\n",
       "            </td>\n",
       "        </tr>\n",
       "    \n",
       "        <tr style=\"background-color: hsl(120, 100.00%, 99.12%); border: none;\">\n",
       "            <td style=\"padding: 0 1em 0 0.5em; text-align: right; border: none;\">\n",
       "                0.0066\n",
       "                \n",
       "            </td>\n",
       "            <td style=\"padding: 0 0.5em 0 0.5em; text-align: left; border: none;\">\n",
       "                mitoses\n",
       "            </td>\n",
       "        </tr>\n",
       "    \n",
       "    \n",
       "    </tbody>\n",
       "</table>\n",
       "    \n",
       "\n",
       "    \n",
       "\n",
       "\n",
       "    \n",
       "\n",
       "    \n",
       "\n",
       "    \n",
       "\n",
       "    \n",
       "\n",
       "    \n",
       "\n",
       "    \n",
       "\n",
       "\n",
       "\n"
      ],
      "text/plain": [
       "Explanation(estimator='LGBMClassifier(max_depth=30, min_data_in_leaf=5, num_leaves=20,\\n               random_state=123)', description='\\nLightGBM feature importances; values are numbers 0 <= x <= 1;\\nall values sum to 1.\\n', error=None, method='feature importances', is_regression=False, targets=None, feature_importances=FeatureImportances(importances=[FeatureWeight(feature='unif_size', weight=0.5667570298901791, std=None, value=None), FeatureWeight(feature='nuclei', weight=0.15554757149793624, std=None, value=None), FeatureWeight(feature='unif_shape', weight=0.10961853876672764, std=None, value=None), FeatureWeight(feature='clump', weight=0.052805610331288944, std=None, value=None), FeatureWeight(feature='adhesion', weight=0.03378811714155078, std=None, value=None), FeatureWeight(feature='nucleoli', weight=0.030486934524048638, std=None, value=None), FeatureWeight(feature='chromatin', weight=0.02443386456669868, std=None, value=None), FeatureWeight(feature='epi_size', weight=0.01999888862717266, std=None, value=None), FeatureWeight(feature='mitoses', weight=0.006563444654397322, std=None, value=None)], remaining=0), decision_tree=None, highlight_spaces=None, transition_features=None, image=None)"
      ]
     },
     "execution_count": 35,
     "metadata": {},
     "output_type": "execute_result"
    }
   ],
   "source": [
    "lgm = LGBMClassifier(max_depth = 30, min_data_in_leaf = 5, num_leaves = 20, random_state=123)\n",
    "pipe_lgbm = make_pipeline(ct, lgm)\n",
    "pipe_lgbm.fit(X_train, y_train)\n",
    "eli5.explain_weights(\n",
    "    pipe_lgbm.named_steps[\"lgbmclassifier\"], feature_names=numeric_looking_columns\n",
    ")"
   ]
  },
  {
   "cell_type": "markdown",
   "id": "3e28a3f6-68dc-4529-b3b6-631e2cab7219",
   "metadata": {},
   "source": [
    "From the table above, we can see that unif_size has the most influence over the prediction task with weight of 0.5668. Next in line are nuclei and unif_shape with weight of 0.1555 and 0.1096. Nonetheless, feature unif_size completely overpowers the effect of the rest of the features combined. This suggests that the unif_size will be the dominant factor in predicting whether a tumor is benign or malignant. "
   ]
  },
  {
   "cell_type": "markdown",
   "id": "0109403e-d64a-4474-8566-6564a9cbe41d",
   "metadata": {},
   "source": [
    "## Model on test set "
   ]
  },
  {
   "cell_type": "code",
   "execution_count": 38,
   "id": "717feb97-e6cf-4f29-b68d-91ad027e35f3",
   "metadata": {},
   "outputs": [
    {
     "name": "stdout",
     "output_type": "stream",
     "text": [
      "[LightGBM] [Warning] min_data_in_leaf is set=5, min_child_samples=20 will be ignored. Current value: min_data_in_leaf=5\n"
     ]
    },
    {
     "data": {
      "text/plain": [
       "0.9707317073170731"
      ]
     },
     "execution_count": 38,
     "metadata": {},
     "output_type": "execute_result"
    }
   ],
   "source": [
    "lgm = LGBMClassifier(max_depth = 30, min_data_in_leaf = 5, num_leaves = 20, random_state=123)\n",
    "pipe_lgbm = make_pipeline(ct, lgm)\n",
    "pipe_lgbm.fit(X_train, y_train) \n",
    "pipe_lgbm.score(X_test, y_test)"
   ]
  },
  {
   "cell_type": "markdown",
   "id": "f794dcd5-c171-4bad-b7d6-7a13a9ec6d70",
   "metadata": {},
   "source": [
    "After applying the model to the test set, we obtain the score of 0.97 which indicates that this model generalizes well for prediction task. "
   ]
  },
  {
   "cell_type": "markdown",
   "id": "b6979e18-d718-4561-b602-9aa8f5c2f1e4",
   "metadata": {},
   "source": [
    "## Summary of results and discussion  "
   ]
  },
  {
   "cell_type": "code",
   "execution_count": 17,
   "id": "b8e16a8a-a1dc-4b96-b1a9-731551515d59",
   "metadata": {},
   "outputs": [
    {
     "name": "stdout",
     "output_type": "stream",
     "text": [
      "              precision    recall  f1-score   support\n",
      "\n",
      "      benign       0.99      0.98      0.98       132\n",
      "   malignant       0.96      0.99      0.97        73\n",
      "\n",
      "    accuracy                           0.98       205\n",
      "   macro avg       0.98      0.98      0.98       205\n",
      "weighted avg       0.98      0.98      0.98       205\n",
      "\n"
     ]
    }
   ],
   "source": [
    "print(\n",
    "    classification_report(\n",
    "        y_test, pipe_lgbm.predict(X_test), target_names=[\"benign\", \"malignant\"]\n",
    "    )\n",
    ")"
   ]
  },
  {
   "cell_type": "markdown",
   "id": "a218de1c-231a-4869-bbd2-f0e4aa3e193f",
   "metadata": {},
   "source": [
    "*Summary of Findings:* \n",
    "\n",
    "*Impacts of our Findings:* \n",
    "\n",
    "*Future Questions:* "
   ]
  },
  {
   "cell_type": "code",
   "execution_count": null,
   "id": "76283117-42d5-4f92-9bab-5884df1d32e7",
   "metadata": {},
   "outputs": [],
   "source": []
  }
 ],
 "metadata": {
  "kernelspec": {
   "display_name": "Python 3 (ipykernel)",
   "language": "python",
   "name": "python3"
  },
  "language_info": {
   "codemirror_mode": {
    "name": "ipython",
    "version": 3
   },
   "file_extension": ".py",
   "mimetype": "text/x-python",
   "name": "python",
   "nbconvert_exporter": "python",
   "pygments_lexer": "ipython3",
   "version": "3.9.5"
  }
 },
 "nbformat": 4,
 "nbformat_minor": 5
}
