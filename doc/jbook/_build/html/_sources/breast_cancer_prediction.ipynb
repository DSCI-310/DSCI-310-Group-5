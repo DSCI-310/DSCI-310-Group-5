{
 "cells": [
  {
   "cell_type": "markdown",
   "id": "29a194ef",
   "metadata": {},
   "source": [
    "# Predicting Breast Cancer With Multiple Classification Algorithms"
   ]
  },
  {
   "cell_type": "code",
   "execution_count": 1,
   "id": "1667810b",
   "metadata": {
    "tags": [
     "remove-cell"
    ]
   },
   "outputs": [],
   "source": [
    "import sys\n",
    "sys.path.append( '../..' )\n",
    "import matplotlib.pyplot as plt\n",
    "import numpy as np\n",
    "import pandas as pd\n",
    "import seaborn as sns\n",
    "from src.mean_cross_val_scores import mean_cross_val_scores\n",
    "from src.plot_boxplot import boxplot_plotting\n",
    "from src.plot_hist import plot_hist_overlay\n",
    "%matplotlib inline\n",
    "from sklearn.metrics import (\n",
    "    classification_report,\n",
    "    confusion_matrix,\n",
    "    f1_score,\n",
    "    ConfusionMatrixDisplay\n",
    ")\n",
    "from sklearn.cluster import KMeans\n",
    "from sklearn.compose import ColumnTransformer, make_column_transformer\n",
    "from sklearn.linear_model import LogisticRegression\n",
    "from sklearn.model_selection import (\n",
    "    GridSearchCV,\n",
    "    cross_validate,\n",
    "    train_test_split\n",
    ")\n",
    "from myst_nb import glue\n",
    "from sklearn.pipeline import Pipeline, make_pipeline\n",
    "from sklearn.preprocessing import StandardScaler\n",
    "from sklearn.tree import DecisionTreeClassifier\n",
    "from sklearn.neighbors import KNeighborsClassifier"
   ]
  },
  {
   "cell_type": "markdown",
   "id": "b0a36e2e",
   "metadata": {},
   "source": [
    "## I. Summary\n",
    "\n",
    "In this project, we perform data analysis to look for the most efficient model to predict whether it is benign and malignant tumour based on different measurements/traits observed from the data. We use various machine learning algorithms that classify whether a breast tumour is malignant or benign accordingly, and eventually decide on the best algorithm for that task based on recall score. The dataset is obtained from https://archive.ics.uci.edu/ml/datasets/breast+cancer+wisconsin+%28original%29\n",
    "\n",
    "## II. Introduction\n",
    "\n",
    "### Background\n",
    "\n",
    "Breast cancer is the development of cancerous tissue of the breast. A malignant (cancerous) tumour can destroy other healthy tissue surrounding it and the disease could potentially metastasize, causing numerous other health complications. However, a tumour might or might not be cancerous. A benign (non-cancerous) tumour will not cause as much harm to the patient compared to a malignant one. With that in mind, an early diagnosis of a **malignant tumour** would give both patients and health care providers valuable time to quickly devise various treatment plans to stop the progression of the disease. This is important especially for a silent killer like cancer, in which the earlier a correct diagnosis has been made, the drastically better the prognosis {cite}`MLbreastCancer, BreastCancer, DeepLearnCancer`.\n",
    "This raises the question:\n",
    "\n",
    "**Can we predict whether a tumor is malignant or benign based  on the different features observed from the tumour?**\n",
    "\n",
    "### Dataset Description\n",
    "\n",
    "The dataset we use: Breast Cancer Wisconsin (Original) Data Set, created by Dr. WIlliam H. Wolberg (physician), contains the following features with 699 observations {cite}`Database`:\n",
    "\n",
    "1. Sample code number: id number\n",
    "2. Clump Thickness: 1 - 10\n",
    "3. Uniformity of Cell Size: 1 - 10\n",
    "4. Uniformity of Cell Shape: 1 - 10\n",
    "5. Marginal Adhesion: 1 - 10\n",
    "6. Single Epithelial Cell Size: 1 - 10\n",
    "7. Bare Nuclei: 1 - 10\n",
    "8. Bland Chromatin: 1 - 10\n",
    "9. Normal Nucleoli: 1 - 10\n",
    "10. Mitoses: 1 - 10\n",
    "\n",
    "With the relevant target class:\n",
    "\n",
    "11. Class: (2 for benign, 4 for malignant)"
   ]
  },
  {
   "cell_type": "markdown",
   "id": "7173dd9f",
   "metadata": {
    "tags": []
   },
   "source": [
    "## III. Method & Results\n",
    "\n",
    "### Exploratory Data Analysis"
   ]
  },
  {
   "cell_type": "markdown",
   "id": "40332a22",
   "metadata": {},
   "source": [
    "Since the dataset did not come with column headers, we will first manually add them and load data. The headers will correspond to the order of their respective description above."
   ]
  },
  {
   "cell_type": "code",
   "execution_count": 2,
   "id": "79e467b1",
   "metadata": {
    "tags": [
     "remove-cell"
    ]
   },
   "outputs": [],
   "source": [
    "col_names = [\"id\", \"clump\", \"unif_size\", \"unif_shape\", \"adhesion\", \"epi_size\",\n",
    "             \"nuclei\", \"chromatin\", \"nucleoli\", \"mitoses\", \"class\"]\n",
    "\n",
    "dataset = pd.read_csv(\"../../data/raw/breast_cancer.txt\", names=col_names, sep=\",\")"
   ]
  },
  {
   "cell_type": "code",
   "execution_count": 3,
   "id": "93b13761",
   "metadata": {
    "tags": [
     "remove-cell"
    ]
   },
   "outputs": [
    {
     "data": {
      "text/html": [
       "<div>\n",
       "<style scoped>\n",
       "    .dataframe tbody tr th:only-of-type {\n",
       "        vertical-align: middle;\n",
       "    }\n",
       "\n",
       "    .dataframe tbody tr th {\n",
       "        vertical-align: top;\n",
       "    }\n",
       "\n",
       "    .dataframe thead th {\n",
       "        text-align: right;\n",
       "    }\n",
       "</style>\n",
       "<table border=\"1\" class=\"dataframe\">\n",
       "  <thead>\n",
       "    <tr style=\"text-align: right;\">\n",
       "      <th></th>\n",
       "      <th>id</th>\n",
       "      <th>clump</th>\n",
       "      <th>unif_size</th>\n",
       "      <th>unif_shape</th>\n",
       "      <th>adhesion</th>\n",
       "      <th>epi_size</th>\n",
       "      <th>nuclei</th>\n",
       "      <th>chromatin</th>\n",
       "      <th>nucleoli</th>\n",
       "      <th>mitoses</th>\n",
       "      <th>class</th>\n",
       "    </tr>\n",
       "  </thead>\n",
       "  <tbody>\n",
       "    <tr>\n",
       "      <th>0</th>\n",
       "      <td>1000025</td>\n",
       "      <td>5</td>\n",
       "      <td>1</td>\n",
       "      <td>1</td>\n",
       "      <td>1</td>\n",
       "      <td>2</td>\n",
       "      <td>1</td>\n",
       "      <td>3</td>\n",
       "      <td>1</td>\n",
       "      <td>1</td>\n",
       "      <td>2</td>\n",
       "    </tr>\n",
       "    <tr>\n",
       "      <th>1</th>\n",
       "      <td>1002945</td>\n",
       "      <td>5</td>\n",
       "      <td>4</td>\n",
       "      <td>4</td>\n",
       "      <td>5</td>\n",
       "      <td>7</td>\n",
       "      <td>10</td>\n",
       "      <td>3</td>\n",
       "      <td>2</td>\n",
       "      <td>1</td>\n",
       "      <td>2</td>\n",
       "    </tr>\n",
       "    <tr>\n",
       "      <th>2</th>\n",
       "      <td>1015425</td>\n",
       "      <td>3</td>\n",
       "      <td>1</td>\n",
       "      <td>1</td>\n",
       "      <td>1</td>\n",
       "      <td>2</td>\n",
       "      <td>2</td>\n",
       "      <td>3</td>\n",
       "      <td>1</td>\n",
       "      <td>1</td>\n",
       "      <td>2</td>\n",
       "    </tr>\n",
       "    <tr>\n",
       "      <th>3</th>\n",
       "      <td>1016277</td>\n",
       "      <td>6</td>\n",
       "      <td>8</td>\n",
       "      <td>8</td>\n",
       "      <td>1</td>\n",
       "      <td>3</td>\n",
       "      <td>4</td>\n",
       "      <td>3</td>\n",
       "      <td>7</td>\n",
       "      <td>1</td>\n",
       "      <td>2</td>\n",
       "    </tr>\n",
       "    <tr>\n",
       "      <th>4</th>\n",
       "      <td>1017023</td>\n",
       "      <td>4</td>\n",
       "      <td>1</td>\n",
       "      <td>1</td>\n",
       "      <td>3</td>\n",
       "      <td>2</td>\n",
       "      <td>1</td>\n",
       "      <td>3</td>\n",
       "      <td>1</td>\n",
       "      <td>1</td>\n",
       "      <td>2</td>\n",
       "    </tr>\n",
       "  </tbody>\n",
       "</table>\n",
       "</div>"
      ],
      "text/plain": [
       "        id  clump  unif_size  unif_shape  adhesion  epi_size nuclei  \\\n",
       "0  1000025      5          1           1         1         2      1   \n",
       "1  1002945      5          4           4         5         7     10   \n",
       "2  1015425      3          1           1         1         2      2   \n",
       "3  1016277      6          8           8         1         3      4   \n",
       "4  1017023      4          1           1         3         2      1   \n",
       "\n",
       "   chromatin  nucleoli  mitoses  class  \n",
       "0          3         1        1      2  \n",
       "1          3         2        1      2  \n",
       "2          3         1        1      2  \n",
       "3          3         7        1      2  \n",
       "4          3         1        1      2  "
      ]
     },
     "metadata": {
      "scrapbook": {
       "mime_prefix": "",
       "name": "header"
      }
     },
     "output_type": "display_data"
    }
   ],
   "source": [
    "head = dataset.head()\n",
    "glue(\"header\", head)"
   ]
  },
  {
   "cell_type": "markdown",
   "id": "a2357b48",
   "metadata": {},
   "source": [
    "```{glue:} header\n",
    "```"
   ]
  },
  {
   "cell_type": "code",
   "execution_count": 4,
   "id": "59c78672",
   "metadata": {
    "tags": [
     "remove-cell"
    ]
   },
   "outputs": [
    {
     "name": "stdout",
     "output_type": "stream",
     "text": [
      "<class 'pandas.core.frame.DataFrame'>\n",
      "RangeIndex: 699 entries, 0 to 698\n",
      "Data columns (total 11 columns):\n",
      " #   Column      Non-Null Count  Dtype \n",
      "---  ------      --------------  ----- \n",
      " 0   id          699 non-null    int64 \n",
      " 1   clump       699 non-null    int64 \n",
      " 2   unif_size   699 non-null    int64 \n",
      " 3   unif_shape  699 non-null    int64 \n",
      " 4   adhesion    699 non-null    int64 \n",
      " 5   epi_size    699 non-null    int64 \n",
      " 6   nuclei      699 non-null    object\n",
      " 7   chromatin   699 non-null    int64 \n",
      " 8   nucleoli    699 non-null    int64 \n",
      " 9   mitoses     699 non-null    int64 \n",
      " 10  class       699 non-null    int64 \n",
      "dtypes: int64(10), object(1)\n",
      "memory usage: 60.2+ KB\n"
     ]
    }
   ],
   "source": [
    "dataset.info()"
   ]
  },
  {
   "cell_type": "markdown",
   "id": "1b67430e",
   "metadata": {},
   "source": [
    "We see that the dataset uses \"?\" for missing data so we eliminate rows that contain \"?\". As shown above, all of the variables are numeric except for variables nuclei, we decide to transform it into type int for ease of data analysis later on. Finally, \"id\" feature does not appear to be useful for the prediction task; hence, it is dropped before carrying on to further analysis."
   ]
  },
  {
   "cell_type": "code",
   "execution_count": 5,
   "id": "84c0a73f",
   "metadata": {
    "tags": [
     "remove-cell"
    ]
   },
   "outputs": [],
   "source": [
    "dataset = dataset[(dataset != '?').all(axis=1)]\n",
    "dataset['nuclei'] = dataset['nuclei'].astype(int)\n",
    "dataset = dataset.drop(columns=[\"id\"])"
   ]
  },
  {
   "cell_type": "markdown",
   "id": "00bdc624",
   "metadata": {},
   "source": [
    "We also decide to replace benign class from 2 to 0 and malignant class from 4 to 1 since if we keep values of 2 and 4, it would be hard for predictive models to calculate accuracy, precision, and so on."
   ]
  },
  {
   "cell_type": "code",
   "execution_count": 6,
   "id": "aa3ac104",
   "metadata": {
    "tags": [
     "remove-cell"
    ]
   },
   "outputs": [
    {
     "data": {
      "text/plain": [
       "0    0.650073\n",
       "1    0.349927\n",
       "Name: class, dtype: float64"
      ]
     },
     "metadata": {
      "scrapbook": {
       "mime_prefix": "",
       "name": "vals"
      }
     },
     "output_type": "display_data"
    }
   ],
   "source": [
    "dataset['class'] = dataset['class'].replace([2],0)\n",
    "dataset['class'] = dataset['class'].replace([4],1) \n",
    "values = dataset['class'].value_counts(normalize = True)\n",
    "glue(\"vals\", values)"
   ]
  },
  {
   "cell_type": "markdown",
   "id": "d2afbf9c",
   "metadata": {},
   "source": [
    "```{glue:} vals\n",
    "\n",
    "```\n",
    "\n",
    "There is an imbalance in the dataset between benign and malignant. We want to further investigate the malignant examples (class = 4); hence the classes should have same importance so recall would be the most appropriate and main metric for this project. This is due to the fact that in a medical diagnosis setting, false negative result for a disease like cancer will cause a lot more harm than a false positive result.\n",
    "\n",
    "Then we split the data into training and testing sets (X_train, X_test, y_train, y_test) and extract names of numeric features for further exploration."
   ]
  },
  {
   "cell_type": "code",
   "execution_count": 7,
   "id": "131e0c39",
   "metadata": {
    "tags": [
     "remove-cell"
    ]
   },
   "outputs": [
    {
     "name": "stdout",
     "output_type": "stream",
     "text": [
      "<class 'pandas.core.frame.DataFrame'>\n",
      "Int64Index: 478 entries, 696 to 525\n",
      "Data columns (total 10 columns):\n",
      " #   Column      Non-Null Count  Dtype\n",
      "---  ------      --------------  -----\n",
      " 0   clump       478 non-null    int64\n",
      " 1   unif_size   478 non-null    int64\n",
      " 2   unif_shape  478 non-null    int64\n",
      " 3   adhesion    478 non-null    int64\n",
      " 4   epi_size    478 non-null    int64\n",
      " 5   nuclei      478 non-null    int64\n",
      " 6   chromatin   478 non-null    int64\n",
      " 7   nucleoli    478 non-null    int64\n",
      " 8   mitoses     478 non-null    int64\n",
      " 9   class       478 non-null    int64\n",
      "dtypes: int64(10)\n",
      "memory usage: 41.1 KB\n"
     ]
    }
   ],
   "source": [
    "train_df, test_df = train_test_split(dataset, test_size=0.3, random_state=123)\n",
    "X_train = train_df.drop(columns=[\"class\"])\n",
    "X_test = test_df.drop(columns=[\"class\"])\n",
    "\n",
    "y_train = train_df[\"class\"]\n",
    "y_test = test_df[\"class\"]\n",
    "numeric_looking_columns = X_train.select_dtypes(include=np.number).columns.tolist()\n",
    "train_df.info()"
   ]
  },
  {
   "cell_type": "code",
   "execution_count": 8,
   "id": "4fd6964b",
   "metadata": {
    "tags": [
     "remove-cell"
    ]
   },
   "outputs": [
    {
     "name": "stdout",
     "output_type": "stream",
     "text": [
      "9\n"
     ]
    }
   ],
   "source": [
    "benign_cases = train_df[train_df[\"class\"] == 0]\n",
    "malignant_cases = train_df[train_df[\"class\"] == 1]\n",
    "print(len(numeric_looking_columns))"
   ]
  },
  {
   "cell_type": "code",
   "execution_count": 9,
   "id": "858c2fa9",
   "metadata": {
    "tags": [
     "remove-cell"
    ]
   },
   "outputs": [
    {
     "data": {
      "image/png": "[encoded data removed]",
      "text/plain": [
       "<Figure size 1584x1584 with 9 Axes>"
      ]
     },
     "metadata": {
      "filenames": {
       "image/png": "/Users/tien/Desktop/UBC/UBC/2021W2 (2022)/DSCI 310/DSCI-310-Group-5/doc/jbook/_build/jupyter_execute/breast_cancer_prediction_16_0.png"
      },
      "needs_background": "light"
     },
     "output_type": "display_data"
    }
   ],
   "source": [
    "fig = plot_hist_overlay(df0=benign_cases, df1=malignant_cases,\n",
    "                 columns=numeric_looking_columns, labels=[\"0 - benign\", \"1 - malignant\"],\n",
    "                 fig_no=\"1\")"
   ]
  },
  {
   "cell_type": "markdown",
   "id": "397984ae",
   "metadata": {},
   "source": [
    "```{figure} ../../results/figures/hist_plot.png\n",
    "---\n",
    "height: 700px\n",
    "name: Histograms\n",
    "---\n",
    "Histograms of Class Targets with respecto to each Explanatory Variable \n",
    "```"
   ]
  },
  {
   "cell_type": "code",
   "execution_count": 10,
   "id": "3e10960a",
   "metadata": {
    "tags": [
     "remove-cell"
    ]
   },
   "outputs": [
    {
     "data": {
      "image/png": "[encoded data removed]",
      "text/plain": [
       "<Figure size 1440x1800 with 9 Axes>"
      ]
     },
     "metadata": {
      "filenames": {
       "image/png": "/Users/tien/Desktop/UBC/UBC/2021W2 (2022)/DSCI 310/DSCI-310-Group-5/doc/jbook/_build/jupyter_execute/breast_cancer_prediction_18_0.png"
      },
      "needs_background": "light"
     },
     "output_type": "display_data"
    }
   ],
   "source": [
    "fig = boxplot_plotting(3,3,20,25,numeric_looking_columns,train_df,2)"
   ]
  },
  {
   "cell_type": "markdown",
   "id": "77a686a6",
   "metadata": {},
   "source": [
    "```{figure} ../../results/figures/boxplot_plot.png\n",
    "---\n",
    "height: 700px\n",
    "name: Boxplots\n",
    "---\n",
    "Boxplots of Class Targets with respecto to each Explanatory Variable \n",
    "```\n",
    "\n",
    "Judging from the {ref}`histograms <Histograms>`, it is indicated that benign tumors tend to have smaller values for all the features listed in the dataset (clump, unif_size and so on) while malignant tumors have different tendencies for each features.\n",
    "\n",
    "From the {ref}`boxplots <Boxplots>` above, chromatin and clump feature display the clearest differentiation between benign and malignant tumor. Benign tumors seem to have clump thickness and bland chromatin on the lower ends. These characteristics are also displayed clearly in the histograms. Moreover, it might not be as obvious in {ref}`boxplot <Boxplots>`, but in  {ref}`histogram <Histograms>`, the majority of benign tumors is on the lower end of the nuclei's spectrum while the majority of malignant tumors are on the upper end. This suggests tumors with higher values of clump thickness, chromatin and nuclei have a higher chance of being malignant. \n",
    "\n",
    "As for unif_size, unif_shape, adhesion and nucleoli, the {ref}`histogram <Histograms>` show that regarding to benign tumors, these features tend to range in small values while malignant tumors' ranges are more evenly spread out. This proposes tumors with smaller values of said features are more likely to be benign. But the proposal is not as strong as the one discussed above as the distinction is not as prominent.\n",
    "\n",
    "Lastly, mitoses and epi_size feature indicate to have an overlap in values between benign and malignant tumors shown in  {ref}`histogram <Histograms>`. Hence, they might not be as useful in prediction task as other features."
   ]
  },
  {
   "cell_type": "code",
   "execution_count": 11,
   "id": "76fce987",
   "metadata": {
    "tags": [
     "remove-cell"
    ]
   },
   "outputs": [],
   "source": [
    "numeric_transformer = StandardScaler()\n",
    "ct = make_column_transformer(\n",
    "    (numeric_transformer, numeric_looking_columns))"
   ]
  },
  {
   "cell_type": "markdown",
   "id": "8e088eb3",
   "metadata": {},
   "source": [
    "### Data analysis \n",
    "Since all features are numeric, we decide to scale our data to ensure that there is no bias presents when predicting results. \n",
    "\n",
    "Even though the main score we will be comparing when choosing the models is recall, we still want to look into accuracy and decision. Because between a model performs well on recall but have very low accuracy and precision and a model performs just a bit worse on recall but have excellent accuracy and precision, the latter model will still have an upper hand and be more preferable."
   ]
  },
  {
   "cell_type": "code",
   "execution_count": 12,
   "id": "b5e96d89",
   "metadata": {
    "tags": [
     "remove-cell"
    ]
   },
   "outputs": [],
   "source": [
    "scoring = [\n",
    "    \"accuracy\",\n",
    "    \"f1\",\n",
    "    \"recall\",\n",
    "    \"precision\",\n",
    "]"
   ]
  },
  {
   "cell_type": "markdown",
   "id": "2096810c",
   "metadata": {},
   "source": [
    "We decide to test 3 models: Decision Tree, kNN and Logistic Regression. Decision Tree, kNN, Logistic Regression are simple models with fast fit_time and moderate precision and accuracy and suitable for the classification/prediction task."
   ]
  },
  {
   "cell_type": "code",
   "execution_count": 13,
   "id": "66cea88c",
   "metadata": {
    "tags": [
     "remove-cell"
    ]
   },
   "outputs": [
    {
     "data": {
      "text/html": [
       "<div>\n",
       "<style scoped>\n",
       "    .dataframe tbody tr th:only-of-type {\n",
       "        vertical-align: middle;\n",
       "    }\n",
       "\n",
       "    .dataframe tbody tr th {\n",
       "        vertical-align: top;\n",
       "    }\n",
       "\n",
       "    .dataframe thead th {\n",
       "        text-align: right;\n",
       "    }\n",
       "</style>\n",
       "<table border=\"1\" class=\"dataframe\">\n",
       "  <thead>\n",
       "    <tr style=\"text-align: right;\">\n",
       "      <th></th>\n",
       "      <th>fit_time</th>\n",
       "      <th>score_time</th>\n",
       "      <th>test_accuracy</th>\n",
       "      <th>train_accuracy</th>\n",
       "      <th>test_f1</th>\n",
       "      <th>train_f1</th>\n",
       "      <th>test_recall</th>\n",
       "      <th>train_recall</th>\n",
       "      <th>test_precision</th>\n",
       "      <th>train_precision</th>\n",
       "    </tr>\n",
       "  </thead>\n",
       "  <tbody>\n",
       "    <tr>\n",
       "      <th>kNN</th>\n",
       "      <td>0.003760</td>\n",
       "      <td>0.007023</td>\n",
       "      <td>0.964452</td>\n",
       "      <td>0.971236</td>\n",
       "      <td>0.948880</td>\n",
       "      <td>0.958788</td>\n",
       "      <td>0.951872</td>\n",
       "      <td>0.963853</td>\n",
       "      <td>0.946145</td>\n",
       "      <td>0.953845</td>\n",
       "    </tr>\n",
       "    <tr>\n",
       "      <th>Decision Tree</th>\n",
       "      <td>0.004034</td>\n",
       "      <td>0.003673</td>\n",
       "      <td>0.951842</td>\n",
       "      <td>1.000000</td>\n",
       "      <td>0.930415</td>\n",
       "      <td>1.000000</td>\n",
       "      <td>0.927451</td>\n",
       "      <td>1.000000</td>\n",
       "      <td>0.934969</td>\n",
       "      <td>1.000000</td>\n",
       "    </tr>\n",
       "    <tr>\n",
       "      <th>Logistic Regression</th>\n",
       "      <td>0.006276</td>\n",
       "      <td>0.003664</td>\n",
       "      <td>0.964408</td>\n",
       "      <td>0.966525</td>\n",
       "      <td>0.948501</td>\n",
       "      <td>0.951652</td>\n",
       "      <td>0.945633</td>\n",
       "      <td>0.948804</td>\n",
       "      <td>0.951817</td>\n",
       "      <td>0.954543</td>\n",
       "    </tr>\n",
       "  </tbody>\n",
       "</table>\n",
       "</div>"
      ],
      "text/plain": [
       "                     fit_time  score_time  test_accuracy  train_accuracy  \\\n",
       "kNN                  0.003760    0.007023       0.964452        0.971236   \n",
       "Decision Tree        0.004034    0.003673       0.951842        1.000000   \n",
       "Logistic Regression  0.006276    0.003664       0.964408        0.966525   \n",
       "\n",
       "                      test_f1  train_f1  test_recall  train_recall  \\\n",
       "kNN                  0.948880  0.958788     0.951872      0.963853   \n",
       "Decision Tree        0.930415  1.000000     0.927451      1.000000   \n",
       "Logistic Regression  0.948501  0.951652     0.945633      0.948804   \n",
       "\n",
       "                     test_precision  train_precision  \n",
       "kNN                        0.946145         0.953845  \n",
       "Decision Tree              0.934969         1.000000  \n",
       "Logistic Regression        0.951817         0.954543  "
      ]
     },
     "metadata": {
      "scrapbook": {
       "mime_prefix": "",
       "name": "df_table"
      }
     },
     "output_type": "display_data"
    },
    {
     "data": {
      "text/plain": [
       "0.952"
      ]
     },
     "metadata": {
      "scrapbook": {
       "mime_prefix": "",
       "name": "knn-based-rec"
      }
     },
     "output_type": "display_data"
    },
    {
     "data": {
      "text/plain": [
       "0.946"
      ]
     },
     "metadata": {
      "scrapbook": {
       "mime_prefix": "",
       "name": "knn-based-prec"
      }
     },
     "output_type": "display_data"
    },
    {
     "data": {
      "text/plain": [
       "0.964"
      ]
     },
     "metadata": {
      "scrapbook": {
       "mime_prefix": "",
       "name": "knn-based-acc"
      }
     },
     "output_type": "display_data"
    },
    {
     "data": {
      "text/plain": [
       "0.952"
      ]
     },
     "metadata": {
      "scrapbook": {
       "mime_prefix": "",
       "name": "logit-prec"
      }
     },
     "output_type": "display_data"
    },
    {
     "data": {
      "text/plain": [
       "0.946"
      ]
     },
     "metadata": {
      "scrapbook": {
       "mime_prefix": "",
       "name": "logit-rec"
      }
     },
     "output_type": "display_data"
    }
   ],
   "source": [
    "np.random.seed(123)\n",
    "\n",
    "pipe_knn = make_pipeline(ct, KNeighborsClassifier(n_neighbors=5))\n",
    "pipe_dt = make_pipeline(ct, DecisionTreeClassifier(random_state=123))\n",
    "pipe_reg = make_pipeline(ct, LogisticRegression(max_iter=100000))\n",
    "\n",
    "classifiers = {\n",
    "    \"kNN\": pipe_knn,\n",
    "    \"Decision Tree\": pipe_dt,\n",
    "    \"Logistic Regression\" : pipe_reg\n",
    "}\n",
    "\n",
    "results = {}\n",
    "\n",
    "for (name, model) in classifiers.items():\n",
    "    results[name] = mean_cross_val_scores(\n",
    "        model, \n",
    "        X_train, \n",
    "        y_train, \n",
    "        return_train_score=True, \n",
    "        scoring = scoring\n",
    "    )\n",
    "\n",
    "pd.DataFrame(results).T\n",
    "\n",
    "table = pd.read_csv(\"../../results/tables/cross_val.csv\", index_col=0, sep=\",\")\n",
    "glue(\"df_table\",table)\n",
    "glue(\"knn-based-rec\", np.around(table.iloc[0][\"test_recall\"], 3))\n",
    "glue(\"knn-based-prec\", np.around(table.iloc[0][\"test_precision\"], 3))\n",
    "glue(\"knn-based-acc\", np.around(table.iloc[0][\"test_accuracy\"], 3))\n",
    "glue(\"logit-prec\", np.around(table.iloc[2][\"test_precision\"], 3))\n",
    "glue(\"logit-rec\", np.around(table.iloc[2][\"test_recall\"], 3))"
   ]
  },
  {
   "cell_type": "markdown",
   "id": "cc4c8ac8",
   "metadata": {},
   "source": [
    "```{glue:} df_table\n",
    "```\n",
    "As shown above, kNN model is the best performing model with the highest `test_recall score`, {glue:text}`knn-based-rec`, and high `test_precision` and `test_accuracy`, {glue:text}`knn-based-prec` and {glue:text}`knn-based-acc` respectively. Even though Logistics Regression has higher precision score {glue:text}`logit-prec` than KNN's, its recall score is lower than those of kNN ({glue:text}`logit-rec` < {glue:text}`knn-based-rec` respectively). Overall, kNN model still performs better than Logistics Regression. Decision Tree performs the worst since it displays the lowest scores among 3 models. \n",
    "\n",
    "After choosing the most efficient model, kNN, we move onto tuning its hyperparameters to increase its performance. We decide to tune n_neighbors which determines the number of neighbors k and weights which determines weight function used in prediction."
   ]
  },
  {
   "cell_type": "code",
   "execution_count": 14,
   "id": "a402b3e0",
   "metadata": {
    "tags": [
     "remove-cell"
    ]
   },
   "outputs": [
    {
     "name": "stdout",
     "output_type": "stream",
     "text": [
      "0.9639705882352942\n",
      "{'kneighborsclassifier__n_neighbors': 5, 'kneighborsclassifier__weights': 'uniform'}\n"
     ]
    }
   ],
   "source": [
    "np.random.seed(123)\n",
    "\n",
    "search = GridSearchCV(pipe_knn,\n",
    "                      param_grid={'kneighborsclassifier__n_neighbors': range(1, 50),\n",
    "                                  'kneighborsclassifier__weights': ['uniform', 'distance']},\n",
    "                      cv=10, \n",
    "                      n_jobs=-1,  \n",
    "                      scoring=\"recall\", \n",
    "                      return_train_score=True)\n",
    "\n",
    "search.fit(X_train, y_train)\n",
    "print(search.best_score_)\n",
    "print(search.best_params_)"
   ]
  },
  {
   "cell_type": "code",
   "execution_count": 15,
   "id": "7b8968f7",
   "metadata": {
    "tags": [
     "remove-cell"
    ]
   },
   "outputs": [
    {
     "data": {
      "text/html": [
       "<div>\n",
       "<style scoped>\n",
       "    .dataframe tbody tr th:only-of-type {\n",
       "        vertical-align: middle;\n",
       "    }\n",
       "\n",
       "    .dataframe tbody tr th {\n",
       "        vertical-align: top;\n",
       "    }\n",
       "\n",
       "    .dataframe thead th {\n",
       "        text-align: right;\n",
       "    }\n",
       "</style>\n",
       "<table border=\"1\" class=\"dataframe\">\n",
       "  <thead>\n",
       "    <tr style=\"text-align: right;\">\n",
       "      <th></th>\n",
       "      <th>kneighborsclassifier__n_neighbors</th>\n",
       "      <th>kneighborsclassifier__weights</th>\n",
       "      <th>knn_best_score</th>\n",
       "    </tr>\n",
       "  </thead>\n",
       "  <tbody>\n",
       "    <tr>\n",
       "      <th>Value</th>\n",
       "      <td>5</td>\n",
       "      <td>uniform</td>\n",
       "      <td>0.963971</td>\n",
       "    </tr>\n",
       "  </tbody>\n",
       "</table>\n",
       "</div>"
      ],
      "text/plain": [
       "       kneighborsclassifier__n_neighbors kneighborsclassifier__weights  \\\n",
       "Value                                  5                       uniform   \n",
       "\n",
       "       knn_best_score  \n",
       "Value        0.963971  "
      ]
     },
     "metadata": {
      "scrapbook": {
       "mime_prefix": "",
       "name": "tuned_para"
      }
     },
     "output_type": "display_data"
    },
    {
     "data": {
      "text/plain": [
       "5"
      ]
     },
     "metadata": {
      "scrapbook": {
       "mime_prefix": "",
       "name": "para1"
      }
     },
     "output_type": "display_data"
    },
    {
     "data": {
      "text/plain": [
       "'uniform'"
      ]
     },
     "metadata": {
      "scrapbook": {
       "mime_prefix": "",
       "name": "para2"
      }
     },
     "output_type": "display_data"
    },
    {
     "data": {
      "text/plain": [
       "0.964"
      ]
     },
     "metadata": {
      "scrapbook": {
       "mime_prefix": "",
       "name": "recall"
      }
     },
     "output_type": "display_data"
    }
   ],
   "source": [
    "tuned = pd.read_csv(\"../../results/tables/tuned_para.csv\", index_col=0, sep=\",\")\n",
    "glue(\"tuned_para\", tuned)\n",
    "glue(\"para1\", tuned.iloc[0][\"kneighborsclassifier__n_neighbors\"])\n",
    "glue(\"para2\", tuned.iloc[0][\"kneighborsclassifier__weights\"])\n",
    "glue(\"recall\", np.around(tuned.iloc[0][\"knn_best_score\"], 3))"
   ]
  },
  {
   "cell_type": "markdown",
   "id": "8f9744fd",
   "metadata": {},
   "source": [
    "```{glue:} tuned_para\n",
    "```\n",
    "\n",
    "After tuning hyperparameters, we successfully increase recall score from {glue:text}`knn-based-rec` to {glue:text}`recall` with hyperparameters `n_neighbors=` {glue:text}`para1` and `weights=` {glue:text}`para2`."
   ]
  },
  {
   "cell_type": "markdown",
   "id": "012ce614",
   "metadata": {},
   "source": [
    "### Model on test set"
   ]
  },
  {
   "cell_type": "markdown",
   "id": "04a0a670",
   "metadata": {},
   "source": [
    "We then apply tuned hyperparameters, `n_neighbors=` {glue:text}`para1` and `weights=` {glue:text}`para2`, to kNN model and test the model's generalization on test set. \n",
    "\n",
    "We also print a result plot and plot a confusion matrix for X_test and y_test to visualize the test results."
   ]
  },
  {
   "cell_type": "code",
   "execution_count": 16,
   "id": "4844f0a7",
   "metadata": {
    "tags": [
     "remove-cell"
    ]
   },
   "outputs": [
    {
     "data": {
      "text/plain": [
       "0.9853658536585366"
      ]
     },
     "execution_count": 16,
     "metadata": {},
     "output_type": "execute_result"
    }
   ],
   "source": [
    "pipe_knn_tuned = make_pipeline(ct,KNeighborsClassifier(n_neighbors=5, weights='uniform'))\n",
    "pipe_knn_tuned.fit(X_train, y_train)\n",
    "pipe_knn_tuned.score(X_test, y_test)"
   ]
  },
  {
   "cell_type": "code",
   "execution_count": 17,
   "id": "e0e78960",
   "metadata": {
    "tags": [
     "remove-cell"
    ]
   },
   "outputs": [
    {
     "name": "stdout",
     "output_type": "stream",
     "text": [
      "              precision    recall  f1-score   support\n",
      "\n",
      "      benign       0.99      0.98      0.99       132\n",
      "   malignant       0.97      0.99      0.98        73\n",
      "\n",
      "    accuracy                           0.99       205\n",
      "   macro avg       0.98      0.99      0.98       205\n",
      "weighted avg       0.99      0.99      0.99       205\n",
      "\n"
     ]
    }
   ],
   "source": [
    "print(classification_report(\n",
    "    y_test, pipe_knn_tuned.predict(X_test), target_names=[\"benign\", \"malignant\"]))"
   ]
  },
  {
   "cell_type": "code",
   "execution_count": 18,
   "id": "0a63b234",
   "metadata": {
    "tags": [
     "remove-cell"
    ]
   },
   "outputs": [
    {
     "data": {
      "text/plain": [
       "Text(0.5, 1.0, 'Figure 3: Confusion Matrix')"
      ]
     },
     "execution_count": 18,
     "metadata": {},
     "output_type": "execute_result"
    },
    {
     "data": {
      "image/png": "[encoded data removed]",
      "text/plain": [
       "<Figure size 432x288 with 2 Axes>"
      ]
     },
     "metadata": {
      "filenames": {
       "image/png": "/Users/tien/Desktop/UBC/UBC/2021W2 (2022)/DSCI 310/DSCI-310-Group-5/doc/jbook/_build/jupyter_execute/breast_cancer_prediction_33_1.png"
      },
      "needs_background": "light"
     },
     "output_type": "display_data"
    }
   ],
   "source": [
    "predictions = pipe_knn_tuned.predict(X_test)\n",
    "cm = confusion_matrix(y_test, predictions, labels=pipe_knn_tuned.classes_)\n",
    "disp = ConfusionMatrixDisplay(confusion_matrix=cm,\n",
    "                              display_labels=pipe_knn_tuned.classes_)\n",
    "disp.plot()\n",
    "plt.title(\"Figure 3: Confusion Matrix\")"
   ]
  },
  {
   "cell_type": "code",
   "execution_count": 19,
   "id": "9f0cf5d1",
   "metadata": {
    "tags": [
     "remove-cell"
    ]
   },
   "outputs": [
    {
     "data": {
      "text/html": [
       "<div>\n",
       "<style scoped>\n",
       "    .dataframe tbody tr th:only-of-type {\n",
       "        vertical-align: middle;\n",
       "    }\n",
       "\n",
       "    .dataframe tbody tr th {\n",
       "        vertical-align: top;\n",
       "    }\n",
       "\n",
       "    .dataframe thead th {\n",
       "        text-align: right;\n",
       "    }\n",
       "</style>\n",
       "<table border=\"1\" class=\"dataframe\">\n",
       "  <thead>\n",
       "    <tr style=\"text-align: right;\">\n",
       "      <th></th>\n",
       "      <th>precision</th>\n",
       "      <th>recall</th>\n",
       "      <th>f1-score</th>\n",
       "      <th>support</th>\n",
       "    </tr>\n",
       "  </thead>\n",
       "  <tbody>\n",
       "    <tr>\n",
       "      <th>benign</th>\n",
       "      <td>0.992366</td>\n",
       "      <td>0.984848</td>\n",
       "      <td>0.988593</td>\n",
       "      <td>132.000000</td>\n",
       "    </tr>\n",
       "    <tr>\n",
       "      <th>malignant</th>\n",
       "      <td>0.972973</td>\n",
       "      <td>0.986301</td>\n",
       "      <td>0.979592</td>\n",
       "      <td>73.000000</td>\n",
       "    </tr>\n",
       "    <tr>\n",
       "      <th>accuracy</th>\n",
       "      <td>0.985366</td>\n",
       "      <td>0.985366</td>\n",
       "      <td>0.985366</td>\n",
       "      <td>0.985366</td>\n",
       "    </tr>\n",
       "    <tr>\n",
       "      <th>macro avg</th>\n",
       "      <td>0.982670</td>\n",
       "      <td>0.985575</td>\n",
       "      <td>0.984092</td>\n",
       "      <td>205.000000</td>\n",
       "    </tr>\n",
       "    <tr>\n",
       "      <th>weighted avg</th>\n",
       "      <td>0.985460</td>\n",
       "      <td>0.985366</td>\n",
       "      <td>0.985388</td>\n",
       "      <td>205.000000</td>\n",
       "    </tr>\n",
       "  </tbody>\n",
       "</table>\n",
       "</div>"
      ],
      "text/plain": [
       "              precision    recall  f1-score     support\n",
       "benign         0.992366  0.984848  0.988593  132.000000\n",
       "malignant      0.972973  0.986301  0.979592   73.000000\n",
       "accuracy       0.985366  0.985366  0.985366    0.985366\n",
       "macro avg      0.982670  0.985575  0.984092  205.000000\n",
       "weighted avg   0.985460  0.985366  0.985388  205.000000"
      ]
     },
     "metadata": {
      "scrapbook": {
       "mime_prefix": "",
       "name": "predict"
      }
     },
     "output_type": "display_data"
    },
    {
     "data": {
      "text/plain": [
       "0.985"
      ]
     },
     "metadata": {
      "scrapbook": {
       "mime_prefix": "",
       "name": "fin-avg-acc"
      }
     },
     "output_type": "display_data"
    },
    {
     "data": {
      "text/plain": [
       "0.985"
      ]
     },
     "metadata": {
      "scrapbook": {
       "mime_prefix": "",
       "name": "fin-avg-prec"
      }
     },
     "output_type": "display_data"
    },
    {
     "data": {
      "text/plain": [
       "0.985"
      ]
     },
     "metadata": {
      "scrapbook": {
       "mime_prefix": "",
       "name": "fin-avg-rec"
      }
     },
     "output_type": "display_data"
    },
    {
     "data": {
      "text/plain": [
       "0.985"
      ]
     },
     "metadata": {
      "scrapbook": {
       "mime_prefix": "",
       "name": "fin-avg-f1"
      }
     },
     "output_type": "display_data"
    },
    {
     "data": {
      "text/plain": [
       "0.986"
      ]
     },
     "metadata": {
      "scrapbook": {
       "mime_prefix": "",
       "name": "fin-mal-rec"
      }
     },
     "output_type": "display_data"
    },
    {
     "data": {
      "text/plain": [
       "0.985"
      ]
     },
     "metadata": {
      "scrapbook": {
       "mime_prefix": "",
       "name": "fin-be-rec"
      }
     },
     "output_type": "display_data"
    }
   ],
   "source": [
    "preds = pd.read_csv(\"../../results/tables/classification_report.csv\", index_col=0, sep=\",\")\n",
    "glue(\"predict\", preds)\n",
    "glue(\"fin-avg-acc\", np.around(preds.iloc[2][\"recall\"], 3))\n",
    "glue(\"fin-avg-prec\", np.around(preds.iloc[4][\"precision\"], 3))\n",
    "glue(\"fin-avg-rec\", np.around(preds.iloc[4][\"recall\"], 3))\n",
    "glue(\"fin-avg-f1\", np.around(preds.iloc[4][\"f1-score\"], 3))\n",
    "glue(\"fin-mal-rec\", np.around(preds.iloc[1][\"recall\"], 3))\n",
    "glue(\"fin-be-rec\", np.around(preds.iloc[0][\"recall\"], 3))"
   ]
  },
  {
   "cell_type": "markdown",
   "id": "251604c3",
   "metadata": {},
   "source": [
    "```{glue:} predict\n",
    "```\n",
    "\n",
    "```{figure} ../../results/figures/confusion_matrix.png\n",
    "---\n",
    "height: 500px\n",
    "name: Conf-Matrix\n",
    "---\n",
    "Confusion matrix for Algorithms Classification\n",
    "```\n",
    "\n",
    "After applying the model to the test set, we obtain the score of {glue:text}`fin-avg-acc` which indicates that this model generalizes well for prediction task. Moreover, from the plot above {ref}`(Figure 3) <Conf-Matrix>`, we can see that out of **205** observations in test set, we only falsely predict **1** tumor to be benign and **2** tumors to malignant. This aligns with our decision at the beginning of the project which is to optimize recall score of the model. \n",
    "\n",
    "With the recall score of {glue:text}`fin-mal-rec` for malignant tumors and {glue:text}`fin-be-rec` for benign tumors reported above, we have statistical evidence that the model generalizes well for the prediction task."
   ]
  },
  {
   "cell_type": "markdown",
   "id": "493bac9f",
   "metadata": {},
   "source": [
    "## IV. Summary of results and discussion"
   ]
  },
  {
   "cell_type": "code",
   "execution_count": 20,
   "id": "43216cc1",
   "metadata": {
    "tags": [
     "remove-cell"
    ]
   },
   "outputs": [
    {
     "name": "stdout",
     "output_type": "stream",
     "text": [
      "              precision    recall  f1-score   support\n",
      "\n",
      "      benign       0.99      0.98      0.99       132\n",
      "   malignant       0.97      0.99      0.98        73\n",
      "\n",
      "    accuracy                           0.99       205\n",
      "   macro avg       0.98      0.99      0.98       205\n",
      "weighted avg       0.99      0.99      0.99       205\n",
      "\n"
     ]
    },
    {
     "data": {
      "text/plain": [
       "98.5"
      ]
     },
     "metadata": {
      "scrapbook": {
       "mime_prefix": "",
       "name": "fin-avg-acc-per"
      }
     },
     "output_type": "display_data"
    },
    {
     "data": {
      "text/plain": [
       "98.5"
      ]
     },
     "metadata": {
      "scrapbook": {
       "mime_prefix": "",
       "name": "fin-avg-prec-per"
      }
     },
     "output_type": "display_data"
    },
    {
     "data": {
      "text/plain": [
       "98.5"
      ]
     },
     "metadata": {
      "scrapbook": {
       "mime_prefix": "",
       "name": "fin-avg-rec-per"
      }
     },
     "output_type": "display_data"
    },
    {
     "data": {
      "text/plain": [
       "98.5"
      ]
     },
     "metadata": {
      "scrapbook": {
       "mime_prefix": "",
       "name": "fin-avg-f1-per"
      }
     },
     "output_type": "display_data"
    }
   ],
   "source": [
    "print(\n",
    "    classification_report(\n",
    "        y_test, pipe_knn_tuned.predict(X_test), target_names=[\"benign\", \"malignant\"]\n",
    "    )\n",
    ")\n",
    "\n",
    "glue(\"fin-avg-acc-per\", np.around(preds.iloc[2][\"recall\"], 3)*100)\n",
    "glue(\"fin-avg-prec-per\", np.around(preds.iloc[4][\"precision\"], 3)*100)\n",
    "glue(\"fin-avg-rec-per\", np.around(preds.iloc[4][\"recall\"], 3)*100)\n",
    "glue(\"fin-avg-f1-per\", np.around(preds.iloc[4][\"f1-score\"], 3)*100)"
   ]
  },
  {
   "cell_type": "markdown",
   "id": "19607676",
   "metadata": {},
   "source": [
    "```{glue:} predict\n",
    "```\n",
    "\n",
    "### Summary of Findings\n",
    "\n",
    "The boxplots and histograms allow us to see how the displayed data is distributed across our dataset and how they differentiate benign and malignant tumors. We believe certain variables will give us significantly more information on how to correctly classify a tumor. Such features which can play a decisive factor in prediction task are: \n",
    "\n",
    "Chromatin (Figures {ref}` 1.7 <Histograms>` & {ref}` 2.7 <Boxplots>`): It is a variable which at first sight could serve us as a way to determine the class label for a given test example. The problem with this variable is the intersection between 2 & 4 in the x axis for figure {ref}` 1.7 <Histograms>`. This is problematic because the probability of falsely predicting an observation increases if the value of chromatin of said observation lies within that given interval.\n",
    "\n",
    "Nucleoli (Figures{ref}` 1.8 <Histograms>`  & {ref}` 2.8 <Boxplots>`): This feature plays an important role in classifying tumor types as shown in both plots. Observing {ref}` 1.8 <Histograms>` we notice that benign tumors tend to have a nucleoli value in between 0 and 2 (for discrete values), and we primarily see malignant tumors for values greater than 2. This is further supported in {ref}` 2.8 <Boxplots>`, where we see that only outliers from benign tumors are entangled with the malignant tumor's box and lower whisker.\n",
    "\n",
    "Other variables like nuclei or adhesion can also be useful, but if we were able to set them only for certain values of the \"x\" variable. The problem is that if we, for example, take nuclei as the decisive rule to classify, we would have almost a 50/50 chance of correctly classifying it if \"x\" was between 2 and 4 approximately. \n",
    "\n",
    "By comparing cross-val scores (recall scores) among kNN, Decision Tree, and Logistics Regression, we found that kNN performs the best with highest recall score. By using `GridSearchCV` to computationally optimize the hyperparameters for `KNeighborsClassifier`, it turns out our best model is `KNeighborsClassifier` with `n_neighbors=` {glue:text}`para1` and `weights=` {glue:text}`para2`. This model achieved an astounding {glue:text}`fin-avg-acc-per`**% overall accuracy**, {glue:text}`fin-avg-rec-per`**% recall**, {glue:text}`fin-avg-prec-per`**% precision and an F1-score of** {glue:text}`fin-avg-f1-per`**%** when deploying on test set. This means that the model generalized very well for this prediction problem, and with such a high recall we also achieved our goal of maximizing the True Positive and minimizing the False Negative instances, which would be of tremendous importance when it comes to computational-aided medical diagnostic.\n",
    "\n",
    "### Impacts of our Findings\n",
    "We hope to aid other researchers and medical professionals in breast cancer diagnostic process and treatment with our results. We also hope to inspire other researchers to build upon what we have to continually improve this machine learning model, or take on a different perspective and build other technologies that will hopefully be more powerful and geared towards the task than what we developed.\n",
    "\n",
    "### Future Questions and Research Area\n",
    "1. Are there any other features related to cancer tissue, either unique to breast cancer or universal to all types of cancer, that can further improve the accuracy metrics of machine learning models?\n",
    "1. Is there a better machine learning algorithm that could be seen as the most \"optimal\" to this prediction task?\n",
    "1. Develop a better systematic approach/procedure between medical professional and these technologies to diagnose breast cancer more efficiently.\n",
    "1. Research into developing better technologies, not limited to AI/ML, to aid with breast cancer (or any cancer) diagnostic.\n",
    "\n",
    "## V. References\n",
    "```{bibliography} ../../doc/jbook/references.bib\n",
    ":style: plain\n",
    "```"
   ]
  }
 ],
 "metadata": {
  "jupytext": {
   "text_representation": {
    "extension": ".md",
    "format_name": "myst",
    "format_version": 0.13,
    "jupytext_version": "1.11.5"
   }
  },
  "kernelspec": {
   "display_name": "Python 3",
   "language": "python",
   "name": "python3"
  },
  "language_info": {
   "codemirror_mode": {
    "name": "ipython",
    "version": 3
   },
   "file_extension": ".py",
   "mimetype": "text/x-python",
   "name": "python",
   "nbconvert_exporter": "python",
   "pygments_lexer": "ipython3",
   "version": "3.10.1"
  },
  "source_map": [
   12,
   16,
   48,
   82,
   88,
   92,
   101,
   106,
   111,
   115,
   119,
   125,
   129,
   136,
   147,
   160,
   168,
   174,
   186,
   190,
   210,
   216,
   223,
   232,
   236,
   272,
   280,
   298,
   305,
   312,
   316,
   322,
   330,
   338,
   350,
   360,
   377,
   381,
   394
  ]
 },
 "nbformat": 4,
 "nbformat_minor": 5
}